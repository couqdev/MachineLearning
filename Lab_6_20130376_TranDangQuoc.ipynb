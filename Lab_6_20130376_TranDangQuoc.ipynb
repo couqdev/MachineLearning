{
  "nbformat": 4,
  "nbformat_minor": 0,
  "metadata": {
    "colab": {
      "provenance": [],
      "include_colab_link": true
    },
    "kernelspec": {
      "name": "python3",
      "display_name": "Python 3"
    },
    "language_info": {
      "name": "python"
    }
  },
  "cells": [
    {
      "cell_type": "markdown",
      "metadata": {
        "id": "view-in-github",
        "colab_type": "text"
      },
      "source": [
        "<a href=\"https://colab.research.google.com/github/couqdev/MachineLearning/blob/main/Lab_6_20130376_TranDangQuoc.ipynb\" target=\"_parent\"><img src=\"https://colab.research.google.com/assets/colab-badge.svg\" alt=\"Open In Colab\"/></a>"
      ]
    },
    {
      "cell_type": "markdown",
      "source": [
        "# This lab is to deal with classification task using **Random Forests** and **Naïve Bayes** algorithms with/without **Feature Selection**. \n",
        "\n",
        "*   **Deadline: 23:59, 25/03/2023**\n",
        "\n"
      ],
      "metadata": {
        "id": "LMzehe0sy5wr"
      }
    },
    {
      "cell_type": "markdown",
      "source": [
        "# Import libraries"
      ],
      "metadata": {
        "id": "H4nJmxp9zGX4"
      }
    },
    {
      "cell_type": "code",
      "execution_count": 2,
      "metadata": {
        "id": "DoVWQ8AEyc-C",
        "colab": {
          "base_uri": "https://localhost:8080/"
        },
        "outputId": "9e4e99a7-b26b-4c52-b4c2-716ad294f1e6"
      },
      "outputs": [
        {
          "output_type": "stream",
          "name": "stdout",
          "text": [
            "Mounted at /content/gdrive\n",
            "/content/gdrive/MyDrive/MachineLeaning\n"
          ]
        }
      ],
      "source": [
        "from google.colab import drive\n",
        "drive.mount('/content/gdrive')\n",
        "%cd '/content/gdrive/MyDrive/MachineLeaning'"
      ]
    },
    {
      "cell_type": "code",
      "source": [
        "from sklearn import svm\n",
        "from sklearn import datasets\n",
        "from sklearn.model_selection import train_test_split\n",
        "from prettytable import PrettyTable\n",
        "import sklearn.metrics as metrics\n",
        "import numpy as np\n",
        "from sklearn.linear_model import LogisticRegression\n",
        "from sklearn.metrics import ConfusionMatrixDisplay\n",
        "from sklearn.neighbors import KNeighborsClassifier\n",
        "from sklearn.tree import DecisionTreeClassifier\n",
        "import pandas as pd\n",
        "from sklearn.ensemble import RandomForestClassifier\n",
        "from sklearn.naive_bayes import GaussianNB\n",
        "from sklearn.naive_bayes import CategoricalNB\n",
        "from sklearn.naive_bayes import BernoulliNB\n",
        "from sklearn.naive_bayes import MultinomialNB\n",
        "from sklearn.naive_bayes import ComplementNB\n",
        "from sklearn.preprocessing import StandardScaler\n",
        "from sklearn.preprocessing import OneHotEncoder\n",
        "from sklearn.preprocessing import KBinsDiscretizer\n",
        "from sklearn import tree\n",
        "from sklearn.metrics import confusion_matrix \n",
        "from sklearn.metrics import accuracy_score\n",
        "from sklearn.metrics import recall_score\n",
        "from sklearn.metrics import f1_score\n",
        "from sklearn.metrics import precision_score\n",
        "from sklearn.feature_selection import SelectFromModel"
      ],
      "metadata": {
        "id": "j6RV8I8qvps3"
      },
      "execution_count": 17,
      "outputs": []
    },
    {
      "cell_type": "markdown",
      "source": [
        "#Task 1. \n",
        "Task 1. Compare the performance of selected classification algorithms including **Random forest**, **NaiveBayes**, and **SVM** with **mnist** dataset based on **accuracy, precision, recall, f1** measures according to **without using selection feature** and **using selection feature**.\n",
        "\n"
      ],
      "metadata": {
        "id": "kNv07ARGzOUm"
      }
    },
    {
      "cell_type": "code",
      "source": [
        "data_mnist = datasets.load_digits()\n",
        "X = data_mnist.data\n",
        "y = data_mnist.target\n",
        "data_mnist\n",
        "\n",
        "X_train, X_test, y_train, y_test = train_test_split(X, y, test_size=0.2, random_state = 1)\n",
        "\n"
      ],
      "metadata": {
        "id": "sOsg77IBzEyo"
      },
      "execution_count": null,
      "outputs": []
    },
    {
      "cell_type": "code",
      "source": [
        "# Random forest\n",
        "clf=RandomForestClassifier(n_estimators=100)\n",
        "clf.fit(X_train,y_train)\n",
        "y_pred = clf.predict(X_test)\n",
        "\n",
        "acc1 = metrics.accuracy_score(y_test, y_pred)\n",
        "precision1 = metrics.precision_score(y_test, y_pred, average='micro')\n",
        "recall1 = metrics.recall_score(y_test, y_pred, average='micro')\n",
        "f1_1 = metrics.f1_score(y_test, y_pred, average='micro')\n",
        "\n",
        "print(metrics.classification_report(y_test, y_pred))"
      ],
      "metadata": {
        "colab": {
          "base_uri": "https://localhost:8080/"
        },
        "id": "O6kh56cvw8gW",
        "outputId": "cec442b7-c940-44df-e866-a6ab42f42544"
      },
      "execution_count": null,
      "outputs": [
        {
          "output_type": "stream",
          "name": "stdout",
          "text": [
            "              precision    recall  f1-score   support\n",
            "\n",
            "           0       1.00      0.95      0.98        43\n",
            "           1       1.00      1.00      1.00        35\n",
            "           2       1.00      1.00      1.00        36\n",
            "           3       1.00      0.98      0.99        41\n",
            "           4       0.95      1.00      0.97        38\n",
            "           5       0.97      1.00      0.98        30\n",
            "           6       1.00      1.00      1.00        37\n",
            "           7       1.00      0.97      0.99        37\n",
            "           8       1.00      0.97      0.98        29\n",
            "           9       0.92      0.97      0.94        34\n",
            "\n",
            "    accuracy                           0.98       360\n",
            "   macro avg       0.98      0.98      0.98       360\n",
            "weighted avg       0.98      0.98      0.98       360\n",
            "\n"
          ]
        }
      ]
    },
    {
      "cell_type": "code",
      "source": [
        "# NaiveBayes GaussianNB\n",
        "model = GaussianNB()\n",
        "model.fit(X_train, y_train)\n",
        "y_pred = model.predict(X_test)\n",
        "\n",
        "acc2 = metrics.accuracy_score(y_test, y_pred)\n",
        "precision2 = metrics.precision_score(y_test, y_pred, average='micro')\n",
        "recall2 = metrics.recall_score(y_test, y_pred, average='micro')\n",
        "f1_2 = metrics.f1_score(y_test, y_pred, average='micro')\n",
        "\n",
        "print(metrics.classification_report(y_test, y_pred))\n"
      ],
      "metadata": {
        "colab": {
          "base_uri": "https://localhost:8080/"
        },
        "id": "TzbUELMYyeha",
        "outputId": "cdc9f95c-7b16-43b4-b9f7-88a5a3007fb2"
      },
      "execution_count": null,
      "outputs": [
        {
          "output_type": "stream",
          "name": "stdout",
          "text": [
            "              precision    recall  f1-score   support\n",
            "\n",
            "           0       0.98      0.95      0.96        43\n",
            "           1       0.83      0.83      0.83        35\n",
            "           2       0.96      0.64      0.77        36\n",
            "           3       0.91      0.78      0.84        41\n",
            "           4       0.92      0.92      0.92        38\n",
            "           5       0.89      0.83      0.86        30\n",
            "           6       0.97      1.00      0.99        37\n",
            "           7       0.79      1.00      0.88        37\n",
            "           8       0.53      0.97      0.68        29\n",
            "           9       1.00      0.59      0.74        34\n",
            "\n",
            "    accuracy                           0.85       360\n",
            "   macro avg       0.88      0.85      0.85       360\n",
            "weighted avg       0.89      0.85      0.85       360\n",
            "\n"
          ]
        }
      ]
    },
    {
      "cell_type": "code",
      "source": [
        "clf = MultinomialNB()\n",
        "clf.fit(X_train, y_train)\n",
        "y_pred = clf.predict(X_test)\n",
        "\n",
        "acc4 = metrics.accuracy_score(y_test, y_pred)\n",
        "precision4 = metrics.precision_score(y_test, y_pred, average='micro')\n",
        "recall4 = metrics.recall_score(y_test, y_pred, average='micro')\n",
        "f1_4 = metrics.f1_score(y_test, y_pred, average='micro')\n",
        "\n",
        "print(metrics.classification_report(y_test, y_pred))"
      ],
      "metadata": {
        "colab": {
          "base_uri": "https://localhost:8080/"
        },
        "id": "xiPewu2T54N1",
        "outputId": "0189fbb0-fe8d-456a-c379-11eadbb56fbe"
      },
      "execution_count": null,
      "outputs": [
        {
          "output_type": "stream",
          "name": "stdout",
          "text": [
            "              precision    recall  f1-score   support\n",
            "\n",
            "           0       0.98      0.95      0.96        43\n",
            "           1       0.96      0.69      0.80        35\n",
            "           2       0.86      0.86      0.86        36\n",
            "           3       1.00      0.83      0.91        41\n",
            "           4       0.95      0.95      0.95        38\n",
            "           5       1.00      0.97      0.98        30\n",
            "           6       0.97      1.00      0.99        37\n",
            "           7       0.88      0.97      0.92        37\n",
            "           8       0.76      0.97      0.85        29\n",
            "           9       0.78      0.91      0.84        34\n",
            "\n",
            "    accuracy                           0.91       360\n",
            "   macro avg       0.91      0.91      0.91       360\n",
            "weighted avg       0.92      0.91      0.91       360\n",
            "\n"
          ]
        }
      ]
    },
    {
      "cell_type": "code",
      "source": [
        "model = ComplementNB()\n",
        "model.fit(X_train, y_train)\n",
        "y_pred = model.predict(X_test)\n",
        "\n",
        "acc5 = metrics.accuracy_score(y_test, y_pred)\n",
        "precision5 = metrics.precision_score(y_test, y_pred, average='micro')\n",
        "recall5 = metrics.recall_score(y_test, y_pred, average='micro')\n",
        "f1_5 = metrics.f1_score(y_test, y_pred, average='micro')\n",
        "\n",
        "print(metrics.classification_report(y_test, y_pred))"
      ],
      "metadata": {
        "colab": {
          "base_uri": "https://localhost:8080/"
        },
        "id": "HzWGxKOy6tkJ",
        "outputId": "eb889184-3287-4250-e314-7b2ad67ee544"
      },
      "execution_count": null,
      "outputs": [
        {
          "output_type": "stream",
          "name": "stdout",
          "text": [
            "              precision    recall  f1-score   support\n",
            "\n",
            "           0       0.95      0.95      0.95        43\n",
            "           1       0.92      0.66      0.77        35\n",
            "           2       0.69      0.94      0.80        36\n",
            "           3       0.87      0.83      0.85        41\n",
            "           4       0.86      0.97      0.91        38\n",
            "           5       0.93      0.90      0.92        30\n",
            "           6       0.95      1.00      0.97        37\n",
            "           7       0.65      0.92      0.76        37\n",
            "           8       1.00      0.48      0.65        29\n",
            "           9       0.78      0.62      0.69        34\n",
            "\n",
            "    accuracy                           0.84       360\n",
            "   macro avg       0.86      0.83      0.83       360\n",
            "weighted avg       0.86      0.84      0.83       360\n",
            "\n"
          ]
        }
      ]
    },
    {
      "cell_type": "code",
      "source": [
        "# SVM Polynomial Kernel:\n",
        "clf = svm.SVC(kernel='rbf')\n",
        "clf.fit(X_train, y_train)\n",
        "y_pred = clf.predict(X_test)\n",
        "\n",
        "acc3=  metrics.accuracy_score(y_test, y_pred)\n",
        "pre3 = metrics.precision_score(y_test, y_pred, average='macro')\n",
        "rec3 = metrics.recall_score(y_test, y_pred, average='macro')\n",
        "f1_3 = metrics.f1_score(y_test, y_pred, average='macro')\n",
        "\n",
        "print(metrics.classification_report(y_test, y_pred))"
      ],
      "metadata": {
        "colab": {
          "base_uri": "https://localhost:8080/"
        },
        "id": "YegWrgVnzW3V",
        "outputId": "bbe18332-7aed-4729-bca9-442bb6bbce26"
      },
      "execution_count": null,
      "outputs": [
        {
          "output_type": "stream",
          "name": "stdout",
          "text": [
            "              precision    recall  f1-score   support\n",
            "\n",
            "           0       1.00      1.00      1.00        43\n",
            "           1       1.00      1.00      1.00        35\n",
            "           2       1.00      1.00      1.00        36\n",
            "           3       1.00      1.00      1.00        41\n",
            "           4       1.00      1.00      1.00        38\n",
            "           5       0.97      1.00      0.98        30\n",
            "           6       1.00      1.00      1.00        37\n",
            "           7       1.00      0.97      0.99        37\n",
            "           8       1.00      0.97      0.98        29\n",
            "           9       0.94      0.97      0.96        34\n",
            "\n",
            "    accuracy                           0.99       360\n",
            "   macro avg       0.99      0.99      0.99       360\n",
            "weighted avg       0.99      0.99      0.99       360\n",
            "\n"
          ]
        }
      ]
    },
    {
      "cell_type": "code",
      "source": [
        "t = PrettyTable(['','accuracy', 'precision', 'recall', 'f1'])\n",
        "t.add_row(['Random Forest',round(acc1, 3),round(precision1,3),round(recall1, 3),round(f1_1,3)])\n",
        "t.add_row(['Naive bayes GaussianNB',round(acc2, 3),round(precision2,3),round(recall2, 3),round(f1_2,3)])\n",
        "t.add_row(['Naive bayes MultinomialNB',round(acc4, 3),round(precision4,3),round(recall4, 3),round(f1_4,3)])\n",
        "t.add_row(['Naive bayes ComplementNB',round(acc5, 3),round(precision5,3),round(recall5, 3),round(f1_5,3)])\n",
        "t.add_row(['SMV RBF',round(acc3, 3),round(pre3,3),round(rec3, 3),round(f1_3,3)])\n",
        "print(t)\n"
      ],
      "metadata": {
        "colab": {
          "base_uri": "https://localhost:8080/"
        },
        "id": "m4TfaTetzwuQ",
        "outputId": "c142a44f-c972-4733-d21a-f04c8388edf9"
      },
      "execution_count": null,
      "outputs": [
        {
          "output_type": "stream",
          "name": "stdout",
          "text": [
            "+---------------------------+----------+-----------+--------+-------+\n",
            "|                           | accuracy | precision | recall |   f1  |\n",
            "+---------------------------+----------+-----------+--------+-------+\n",
            "|       Random Forest       |  0.983   |   0.983   | 0.983  | 0.983 |\n",
            "|   Naive bayes GaussianNB  |  0.853   |   0.853   | 0.853  | 0.853 |\n",
            "| Naive bayes MultinomialNB |  0.908   |   0.908   | 0.908  | 0.908 |\n",
            "|  Naive bayes ComplementNB |  0.839   |   0.839   | 0.839  | 0.839 |\n",
            "|          SMV RBF          |  0.992   |   0.991   | 0.991  | 0.991 |\n",
            "+---------------------------+----------+-----------+--------+-------+\n"
          ]
        }
      ]
    },
    {
      "cell_type": "markdown",
      "source": [
        "#Task 2. \n",
        "For given bank dataset (bank.csv) having the following attributes :\n",
        "1.\t**age** (numeric)\n",
        "2.\t**job** : type of job (categorical: 'admin.','blue-collar','entrepreneur','housemaid','management','retired','self-employed','services','student','technician','unemployed','unknown')\n",
        "3.\t**marital** : marital status (categorical: 'divorced','married','single','unknown'; note: 'divorced' means divorced or widowed)\n",
        "4.\t**education** (categorical: 'basic.4y','basic.6y','basic.9y','high.school','illiterate','professional.course','university.degree','unknown')\n",
        "5.\t**default**: has credit in default? (categorical: 'no','yes','unknown')\n",
        "6.\t**housing**: has housing loan? (categorical: 'no','yes','unknown')\n",
        "7.\t**loan**: has personal loan? (categorical: 'no','yes','unknown')\n",
        "8.\t**contact**: contact communication type (categorical: 'cellular','telephone')\n",
        "9.\t**month**: last contact month of year (categorical: 'jan', 'feb', 'mar', ..., 'nov', 'dec')\n",
        "10.\t**day_of_week**: last contact day of the week (categorical: 'mon','tue','wed','thu','fri')\n",
        "11.\t**duration**: last contact duration, in seconds (numeric). Important note: this attribute highly affects the output target (e.g., if duration=0 then y='no'). Yet, the duration is not known before a call is performed. Also, after the end of the call y is obviously known. Thus, this input should only be included for benchmark purposes and should be discarded if the intention is to have a realistic predictive model.\n",
        "12.\t**campaign**: number of contacts performed during this campaign and for this client (numeric, includes last contact)\n",
        "13.\t**pdays**: number of days that passed by after the client was last contacted from a previous campaign (numeric; 999 means client was not previously contacted)\n",
        "14.\t**previous**: number of contacts performed before this campaign and for this client (numeric)\n",
        "15.\t**poutcome**: outcome of the previous marketing campaign (categorical: 'failure','nonexistent','success')\n",
        "Output variable (desired target):\n",
        "16.\t**y**. has the client subscribed a term deposit? (binary: 'yes','no')\n",
        "\n"
      ],
      "metadata": {
        "id": "b52OPWPD2afi"
      }
    },
    {
      "cell_type": "code",
      "source": [
        "data = pd.read_csv(\"bank.csv\")\n",
        "X = data.drop(\"deposit\", axis=1)\n",
        "y = data[[\"deposit\"]]\n",
        "\n",
        "X_train, X_test, y_train, y_test = train_test_split(X, y, test_size=0.3, random_state = 1)\n",
        "data"
      ],
      "metadata": {
        "colab": {
          "base_uri": "https://localhost:8080/",
          "height": 423
        },
        "id": "vUveqGJE2ScL",
        "outputId": "4f29b92e-60ce-420b-8c89-595f13bb4d1e"
      },
      "execution_count": 7,
      "outputs": [
        {
          "output_type": "execute_result",
          "data": {
            "text/plain": [
              "       age          job  marital  education default  balance housing loan  \\\n",
              "0       59       admin.  married  secondary      no     2343     yes   no   \n",
              "1       56       admin.  married  secondary      no       45      no   no   \n",
              "2       41   technician  married  secondary      no     1270     yes   no   \n",
              "3       55     services  married  secondary      no     2476     yes   no   \n",
              "4       54       admin.  married   tertiary      no      184      no   no   \n",
              "...    ...          ...      ...        ...     ...      ...     ...  ...   \n",
              "11157   33  blue-collar   single    primary      no        1     yes   no   \n",
              "11158   39     services  married  secondary      no      733      no   no   \n",
              "11159   32   technician   single  secondary      no       29      no   no   \n",
              "11160   43   technician  married  secondary      no        0      no  yes   \n",
              "11161   34   technician  married  secondary      no        0      no   no   \n",
              "\n",
              "        contact  day month  duration  campaign  pdays  previous poutcome  \\\n",
              "0       unknown    5   may      1042         1     -1         0  unknown   \n",
              "1       unknown    5   may      1467         1     -1         0  unknown   \n",
              "2       unknown    5   may      1389         1     -1         0  unknown   \n",
              "3       unknown    5   may       579         1     -1         0  unknown   \n",
              "4       unknown    5   may       673         2     -1         0  unknown   \n",
              "...         ...  ...   ...       ...       ...    ...       ...      ...   \n",
              "11157  cellular   20   apr       257         1     -1         0  unknown   \n",
              "11158   unknown   16   jun        83         4     -1         0  unknown   \n",
              "11159  cellular   19   aug       156         2     -1         0  unknown   \n",
              "11160  cellular    8   may         9         2    172         5  failure   \n",
              "11161  cellular    9   jul       628         1     -1         0  unknown   \n",
              "\n",
              "      deposit  \n",
              "0         yes  \n",
              "1         yes  \n",
              "2         yes  \n",
              "3         yes  \n",
              "4         yes  \n",
              "...       ...  \n",
              "11157      no  \n",
              "11158      no  \n",
              "11159      no  \n",
              "11160      no  \n",
              "11161      no  \n",
              "\n",
              "[11162 rows x 17 columns]"
            ],
            "text/html": [
              "\n",
              "  <div id=\"df-90d83f81-9558-4df9-a576-e07e6a6d4e95\">\n",
              "    <div class=\"colab-df-container\">\n",
              "      <div>\n",
              "<style scoped>\n",
              "    .dataframe tbody tr th:only-of-type {\n",
              "        vertical-align: middle;\n",
              "    }\n",
              "\n",
              "    .dataframe tbody tr th {\n",
              "        vertical-align: top;\n",
              "    }\n",
              "\n",
              "    .dataframe thead th {\n",
              "        text-align: right;\n",
              "    }\n",
              "</style>\n",
              "<table border=\"1\" class=\"dataframe\">\n",
              "  <thead>\n",
              "    <tr style=\"text-align: right;\">\n",
              "      <th></th>\n",
              "      <th>age</th>\n",
              "      <th>job</th>\n",
              "      <th>marital</th>\n",
              "      <th>education</th>\n",
              "      <th>default</th>\n",
              "      <th>balance</th>\n",
              "      <th>housing</th>\n",
              "      <th>loan</th>\n",
              "      <th>contact</th>\n",
              "      <th>day</th>\n",
              "      <th>month</th>\n",
              "      <th>duration</th>\n",
              "      <th>campaign</th>\n",
              "      <th>pdays</th>\n",
              "      <th>previous</th>\n",
              "      <th>poutcome</th>\n",
              "      <th>deposit</th>\n",
              "    </tr>\n",
              "  </thead>\n",
              "  <tbody>\n",
              "    <tr>\n",
              "      <th>0</th>\n",
              "      <td>59</td>\n",
              "      <td>admin.</td>\n",
              "      <td>married</td>\n",
              "      <td>secondary</td>\n",
              "      <td>no</td>\n",
              "      <td>2343</td>\n",
              "      <td>yes</td>\n",
              "      <td>no</td>\n",
              "      <td>unknown</td>\n",
              "      <td>5</td>\n",
              "      <td>may</td>\n",
              "      <td>1042</td>\n",
              "      <td>1</td>\n",
              "      <td>-1</td>\n",
              "      <td>0</td>\n",
              "      <td>unknown</td>\n",
              "      <td>yes</td>\n",
              "    </tr>\n",
              "    <tr>\n",
              "      <th>1</th>\n",
              "      <td>56</td>\n",
              "      <td>admin.</td>\n",
              "      <td>married</td>\n",
              "      <td>secondary</td>\n",
              "      <td>no</td>\n",
              "      <td>45</td>\n",
              "      <td>no</td>\n",
              "      <td>no</td>\n",
              "      <td>unknown</td>\n",
              "      <td>5</td>\n",
              "      <td>may</td>\n",
              "      <td>1467</td>\n",
              "      <td>1</td>\n",
              "      <td>-1</td>\n",
              "      <td>0</td>\n",
              "      <td>unknown</td>\n",
              "      <td>yes</td>\n",
              "    </tr>\n",
              "    <tr>\n",
              "      <th>2</th>\n",
              "      <td>41</td>\n",
              "      <td>technician</td>\n",
              "      <td>married</td>\n",
              "      <td>secondary</td>\n",
              "      <td>no</td>\n",
              "      <td>1270</td>\n",
              "      <td>yes</td>\n",
              "      <td>no</td>\n",
              "      <td>unknown</td>\n",
              "      <td>5</td>\n",
              "      <td>may</td>\n",
              "      <td>1389</td>\n",
              "      <td>1</td>\n",
              "      <td>-1</td>\n",
              "      <td>0</td>\n",
              "      <td>unknown</td>\n",
              "      <td>yes</td>\n",
              "    </tr>\n",
              "    <tr>\n",
              "      <th>3</th>\n",
              "      <td>55</td>\n",
              "      <td>services</td>\n",
              "      <td>married</td>\n",
              "      <td>secondary</td>\n",
              "      <td>no</td>\n",
              "      <td>2476</td>\n",
              "      <td>yes</td>\n",
              "      <td>no</td>\n",
              "      <td>unknown</td>\n",
              "      <td>5</td>\n",
              "      <td>may</td>\n",
              "      <td>579</td>\n",
              "      <td>1</td>\n",
              "      <td>-1</td>\n",
              "      <td>0</td>\n",
              "      <td>unknown</td>\n",
              "      <td>yes</td>\n",
              "    </tr>\n",
              "    <tr>\n",
              "      <th>4</th>\n",
              "      <td>54</td>\n",
              "      <td>admin.</td>\n",
              "      <td>married</td>\n",
              "      <td>tertiary</td>\n",
              "      <td>no</td>\n",
              "      <td>184</td>\n",
              "      <td>no</td>\n",
              "      <td>no</td>\n",
              "      <td>unknown</td>\n",
              "      <td>5</td>\n",
              "      <td>may</td>\n",
              "      <td>673</td>\n",
              "      <td>2</td>\n",
              "      <td>-1</td>\n",
              "      <td>0</td>\n",
              "      <td>unknown</td>\n",
              "      <td>yes</td>\n",
              "    </tr>\n",
              "    <tr>\n",
              "      <th>...</th>\n",
              "      <td>...</td>\n",
              "      <td>...</td>\n",
              "      <td>...</td>\n",
              "      <td>...</td>\n",
              "      <td>...</td>\n",
              "      <td>...</td>\n",
              "      <td>...</td>\n",
              "      <td>...</td>\n",
              "      <td>...</td>\n",
              "      <td>...</td>\n",
              "      <td>...</td>\n",
              "      <td>...</td>\n",
              "      <td>...</td>\n",
              "      <td>...</td>\n",
              "      <td>...</td>\n",
              "      <td>...</td>\n",
              "      <td>...</td>\n",
              "    </tr>\n",
              "    <tr>\n",
              "      <th>11157</th>\n",
              "      <td>33</td>\n",
              "      <td>blue-collar</td>\n",
              "      <td>single</td>\n",
              "      <td>primary</td>\n",
              "      <td>no</td>\n",
              "      <td>1</td>\n",
              "      <td>yes</td>\n",
              "      <td>no</td>\n",
              "      <td>cellular</td>\n",
              "      <td>20</td>\n",
              "      <td>apr</td>\n",
              "      <td>257</td>\n",
              "      <td>1</td>\n",
              "      <td>-1</td>\n",
              "      <td>0</td>\n",
              "      <td>unknown</td>\n",
              "      <td>no</td>\n",
              "    </tr>\n",
              "    <tr>\n",
              "      <th>11158</th>\n",
              "      <td>39</td>\n",
              "      <td>services</td>\n",
              "      <td>married</td>\n",
              "      <td>secondary</td>\n",
              "      <td>no</td>\n",
              "      <td>733</td>\n",
              "      <td>no</td>\n",
              "      <td>no</td>\n",
              "      <td>unknown</td>\n",
              "      <td>16</td>\n",
              "      <td>jun</td>\n",
              "      <td>83</td>\n",
              "      <td>4</td>\n",
              "      <td>-1</td>\n",
              "      <td>0</td>\n",
              "      <td>unknown</td>\n",
              "      <td>no</td>\n",
              "    </tr>\n",
              "    <tr>\n",
              "      <th>11159</th>\n",
              "      <td>32</td>\n",
              "      <td>technician</td>\n",
              "      <td>single</td>\n",
              "      <td>secondary</td>\n",
              "      <td>no</td>\n",
              "      <td>29</td>\n",
              "      <td>no</td>\n",
              "      <td>no</td>\n",
              "      <td>cellular</td>\n",
              "      <td>19</td>\n",
              "      <td>aug</td>\n",
              "      <td>156</td>\n",
              "      <td>2</td>\n",
              "      <td>-1</td>\n",
              "      <td>0</td>\n",
              "      <td>unknown</td>\n",
              "      <td>no</td>\n",
              "    </tr>\n",
              "    <tr>\n",
              "      <th>11160</th>\n",
              "      <td>43</td>\n",
              "      <td>technician</td>\n",
              "      <td>married</td>\n",
              "      <td>secondary</td>\n",
              "      <td>no</td>\n",
              "      <td>0</td>\n",
              "      <td>no</td>\n",
              "      <td>yes</td>\n",
              "      <td>cellular</td>\n",
              "      <td>8</td>\n",
              "      <td>may</td>\n",
              "      <td>9</td>\n",
              "      <td>2</td>\n",
              "      <td>172</td>\n",
              "      <td>5</td>\n",
              "      <td>failure</td>\n",
              "      <td>no</td>\n",
              "    </tr>\n",
              "    <tr>\n",
              "      <th>11161</th>\n",
              "      <td>34</td>\n",
              "      <td>technician</td>\n",
              "      <td>married</td>\n",
              "      <td>secondary</td>\n",
              "      <td>no</td>\n",
              "      <td>0</td>\n",
              "      <td>no</td>\n",
              "      <td>no</td>\n",
              "      <td>cellular</td>\n",
              "      <td>9</td>\n",
              "      <td>jul</td>\n",
              "      <td>628</td>\n",
              "      <td>1</td>\n",
              "      <td>-1</td>\n",
              "      <td>0</td>\n",
              "      <td>unknown</td>\n",
              "      <td>no</td>\n",
              "    </tr>\n",
              "  </tbody>\n",
              "</table>\n",
              "<p>11162 rows × 17 columns</p>\n",
              "</div>\n",
              "      <button class=\"colab-df-convert\" onclick=\"convertToInteractive('df-90d83f81-9558-4df9-a576-e07e6a6d4e95')\"\n",
              "              title=\"Convert this dataframe to an interactive table.\"\n",
              "              style=\"display:none;\">\n",
              "        \n",
              "  <svg xmlns=\"http://www.w3.org/2000/svg\" height=\"24px\"viewBox=\"0 0 24 24\"\n",
              "       width=\"24px\">\n",
              "    <path d=\"M0 0h24v24H0V0z\" fill=\"none\"/>\n",
              "    <path d=\"M18.56 5.44l.94 2.06.94-2.06 2.06-.94-2.06-.94-.94-2.06-.94 2.06-2.06.94zm-11 1L8.5 8.5l.94-2.06 2.06-.94-2.06-.94L8.5 2.5l-.94 2.06-2.06.94zm10 10l.94 2.06.94-2.06 2.06-.94-2.06-.94-.94-2.06-.94 2.06-2.06.94z\"/><path d=\"M17.41 7.96l-1.37-1.37c-.4-.4-.92-.59-1.43-.59-.52 0-1.04.2-1.43.59L10.3 9.45l-7.72 7.72c-.78.78-.78 2.05 0 2.83L4 21.41c.39.39.9.59 1.41.59.51 0 1.02-.2 1.41-.59l7.78-7.78 2.81-2.81c.8-.78.8-2.07 0-2.86zM5.41 20L4 18.59l7.72-7.72 1.47 1.35L5.41 20z\"/>\n",
              "  </svg>\n",
              "      </button>\n",
              "      \n",
              "  <style>\n",
              "    .colab-df-container {\n",
              "      display:flex;\n",
              "      flex-wrap:wrap;\n",
              "      gap: 12px;\n",
              "    }\n",
              "\n",
              "    .colab-df-convert {\n",
              "      background-color: #E8F0FE;\n",
              "      border: none;\n",
              "      border-radius: 50%;\n",
              "      cursor: pointer;\n",
              "      display: none;\n",
              "      fill: #1967D2;\n",
              "      height: 32px;\n",
              "      padding: 0 0 0 0;\n",
              "      width: 32px;\n",
              "    }\n",
              "\n",
              "    .colab-df-convert:hover {\n",
              "      background-color: #E2EBFA;\n",
              "      box-shadow: 0px 1px 2px rgba(60, 64, 67, 0.3), 0px 1px 3px 1px rgba(60, 64, 67, 0.15);\n",
              "      fill: #174EA6;\n",
              "    }\n",
              "\n",
              "    [theme=dark] .colab-df-convert {\n",
              "      background-color: #3B4455;\n",
              "      fill: #D2E3FC;\n",
              "    }\n",
              "\n",
              "    [theme=dark] .colab-df-convert:hover {\n",
              "      background-color: #434B5C;\n",
              "      box-shadow: 0px 1px 3px 1px rgba(0, 0, 0, 0.15);\n",
              "      filter: drop-shadow(0px 1px 2px rgba(0, 0, 0, 0.3));\n",
              "      fill: #FFFFFF;\n",
              "    }\n",
              "  </style>\n",
              "\n",
              "      <script>\n",
              "        const buttonEl =\n",
              "          document.querySelector('#df-90d83f81-9558-4df9-a576-e07e6a6d4e95 button.colab-df-convert');\n",
              "        buttonEl.style.display =\n",
              "          google.colab.kernel.accessAllowed ? 'block' : 'none';\n",
              "\n",
              "        async function convertToInteractive(key) {\n",
              "          const element = document.querySelector('#df-90d83f81-9558-4df9-a576-e07e6a6d4e95');\n",
              "          const dataTable =\n",
              "            await google.colab.kernel.invokeFunction('convertToInteractive',\n",
              "                                                     [key], {});\n",
              "          if (!dataTable) return;\n",
              "\n",
              "          const docLinkHtml = 'Like what you see? Visit the ' +\n",
              "            '<a target=\"_blank\" href=https://colab.research.google.com/notebooks/data_table.ipynb>data table notebook</a>'\n",
              "            + ' to learn more about interactive tables.';\n",
              "          element.innerHTML = '';\n",
              "          dataTable['output_type'] = 'display_data';\n",
              "          await google.colab.output.renderOutput(dataTable, element);\n",
              "          const docLink = document.createElement('div');\n",
              "          docLink.innerHTML = docLinkHtml;\n",
              "          element.appendChild(docLink);\n",
              "        }\n",
              "      </script>\n",
              "    </div>\n",
              "  </div>\n",
              "  "
            ]
          },
          "metadata": {},
          "execution_count": 7
        }
      ]
    },
    {
      "cell_type": "markdown",
      "source": [
        "#3.1. Apply StandardScaler() function to columns that contains numerical data ('age', 'balance', 'day', 'campaign', 'pdays', 'previous')"
      ],
      "metadata": {
        "id": "q89LEvT7dqaZ"
      }
    },
    {
      "cell_type": "code",
      "source": [
        "X = data[['age', 'balance', 'day', 'campaign', 'pdays', 'previous']]\n",
        "y = data[[\"deposit\"]]\n",
        "X\n",
        "scale = StandardScaler()\n",
        "scaled_X = scale.fit_transform(X)\n",
        "X_train, X_test, y_train, y_test = train_test_split(X, y, test_size=0.3, random_state = 1)\n",
        "clf=RandomForestClassifier(n_estimators=100)\n",
        "clf.fit(X_train,y_train)\n",
        "y_pred = clf.predict(X_test)\n",
        "\n",
        "acc1 = metrics.accuracy_score(y_test, y_pred)\n",
        "precision1 = metrics.precision_score(y_test, y_pred, average='micro')\n",
        "recall1 = metrics.recall_score(y_test, y_pred, average='micro')\n",
        "f1_1 = metrics.f1_score(y_test, y_pred, average='micro')\n",
        "\n",
        "print(metrics.classification_report(y_test, y_pred))"
      ],
      "metadata": {
        "id": "8vx3mfIidu4P",
        "colab": {
          "base_uri": "https://localhost:8080/"
        },
        "outputId": "918069f8-5ae9-4cd6-ce0a-9725431a776d"
      },
      "execution_count": 8,
      "outputs": [
        {
          "output_type": "stream",
          "name": "stderr",
          "text": [
            "<ipython-input-8-69f874acc329>:8: DataConversionWarning: A column-vector y was passed when a 1d array was expected. Please change the shape of y to (n_samples,), for example using ravel().\n",
            "  clf.fit(X_train,y_train)\n"
          ]
        },
        {
          "output_type": "stream",
          "name": "stdout",
          "text": [
            "              precision    recall  f1-score   support\n",
            "\n",
            "          no       0.64      0.72      0.68      1760\n",
            "         yes       0.64      0.56      0.60      1589\n",
            "\n",
            "    accuracy                           0.64      3349\n",
            "   macro avg       0.64      0.64      0.64      3349\n",
            "weighted avg       0.64      0.64      0.64      3349\n",
            "\n"
          ]
        }
      ]
    },
    {
      "cell_type": "markdown",
      "source": [
        "#3.2. Apply Encode Categorical Value (OneHotEncoder) to transfrom categorical data to numerical data ('job', 'marital', 'education', 'default', 'housing', 'loan', 'contact', 'month', 'poutcome')"
      ],
      "metadata": {
        "id": "r7acR0TxdvY8"
      }
    },
    {
      "cell_type": "code",
      "source": [
        "encoder = OneHotEncoder(sparse=False)\n",
        "cat_cols = ['job', 'marital', 'education', 'default', 'housing', 'loan', 'contact', 'month', 'poutcome']\n",
        "\n",
        "data3=[data['job'],data['marital'],data['education'],data['default'],data['housing'],data['loan'],data['contact'],data['month'],data['poutcome']]\n",
        "df_encoded = pd.DataFrame(encoder.fit_transform(data[cat_cols]),columns=encoder.get_feature_names_out(cat_cols))\n",
        "df_processed = pd.concat([data, df_encoded], axis=1)\n",
        "df_processed.drop(columns=cat_cols, inplace=True)\n",
        "\n",
        "print(df_processed.columns)\n",
        "\n",
        "\n"
      ],
      "metadata": {
        "id": "egtgBmAtd0um",
        "colab": {
          "base_uri": "https://localhost:8080/"
        },
        "outputId": "e7001fe1-c4c2-4090-c884-68b3012b6ad5"
      },
      "execution_count": 10,
      "outputs": [
        {
          "output_type": "stream",
          "name": "stdout",
          "text": [
            "Index(['age', 'balance', 'day', 'duration', 'campaign', 'pdays', 'previous',\n",
            "       'deposit', 'job_admin.', 'job_blue-collar', 'job_entrepreneur',\n",
            "       'job_housemaid', 'job_management', 'job_retired', 'job_self-employed',\n",
            "       'job_services', 'job_student', 'job_technician', 'job_unemployed',\n",
            "       'job_unknown', 'marital_divorced', 'marital_married', 'marital_single',\n",
            "       'education_primary', 'education_secondary', 'education_tertiary',\n",
            "       'education_unknown', 'default_no', 'default_yes', 'housing_no',\n",
            "       'housing_yes', 'loan_no', 'loan_yes', 'contact_cellular',\n",
            "       'contact_telephone', 'contact_unknown', 'month_apr', 'month_aug',\n",
            "       'month_dec', 'month_feb', 'month_jan', 'month_jul', 'month_jun',\n",
            "       'month_mar', 'month_may', 'month_nov', 'month_oct', 'month_sep',\n",
            "       'poutcome_failure', 'poutcome_other', 'poutcome_success',\n",
            "       'poutcome_unknown'],\n",
            "      dtype='object')\n"
          ]
        },
        {
          "output_type": "stream",
          "name": "stderr",
          "text": [
            "/usr/local/lib/python3.9/dist-packages/sklearn/preprocessing/_encoders.py:868: FutureWarning: `sparse` was renamed to `sparse_output` in version 1.2 and will be removed in 1.4. `sparse_output` is ignored unless you leave `sparse` to its default value.\n",
            "  warnings.warn(\n"
          ]
        }
      ]
    },
    {
      "cell_type": "markdown",
      "source": [
        "#3.3. Apply **Decision tree, Random forest, kNN, NaïveBayes** to preproceed dataset in the previous steps. Then compare the obtained results using **accuracy, precision, recall, f1** measures."
      ],
      "metadata": {
        "id": "K2Si6d69d1nh"
      }
    },
    {
      "cell_type": "code",
      "source": [
        "#code\n",
        "X_train, X_test, y_train, y_test = train_test_split(df_processed.drop('deposit', axis=1), df_processed['deposit'], test_size=0.3, random_state=1)\n",
        "\n",
        "decision = tree.DecisionTreeClassifier()\n",
        "decision.fit(X_train, y_train) \n",
        "y_predDes = decision.predict(X_test)\n",
        "\n",
        "\n",
        "clf=RandomForestClassifier(n_estimators=100)\n",
        "#Train the model using the training sets\n",
        "clf.fit(X_train,y_train)\n",
        "y_predForest = clf.predict(X_test)\n",
        "\n",
        "neigh = KNeighborsClassifier(n_neighbors=3)\n",
        "neigh.fit(X_train, y_train)\n",
        "y_predKnn = neigh.predict(X_test)\n",
        "\n",
        "model = GaussianNB()\n",
        "model.fit(X_train, y_train)\n",
        "y_predNaiveBayes = model.predict(X_test)\n",
        "\n",
        "\n",
        "t = PrettyTable([\"Regression\",\"accuracy\",\"precision\",\"recall\",\"f1\"])\n",
        "\n",
        "t.add_row([\"DecisionTree\",accuracy_score(y_test,y_predDes),\n",
        "           precision_score(y_test,y_predDes,average='macro'),\n",
        "           recall_score(y_test,y_predDes,average='macro'),\n",
        "           f1_score(y_test,y_predDes,average='macro')])\n",
        "\n",
        "\n",
        "t.add_row([\"kNN\",accuracy_score(y_test,y_predKnn),\n",
        "           precision_score(y_test,y_predKnn,average='macro'),\n",
        "           recall_score(y_test,y_predKnn,average='macro'),\n",
        "           f1_score(y_test,y_predKnn,average='macro')])\n",
        "\n",
        "t.add_row([\"Forest\",accuracy_score(y_test,y_predForest),\n",
        "           precision_score(y_test,y_predForest,average='macro'),\n",
        "           recall_score(y_test,y_predForest,average='macro'),\n",
        "           f1_score(y_test,y_predForest,average='macro')])\n",
        "t.add_row([\"Naive Bayes\",accuracy_score(y_test,y_predNaiveBayes),\n",
        "           precision_score(y_test,y_predNaiveBayes,average='macro'),\n",
        "           recall_score(y_test,y_predNaiveBayes,average='macro'),\n",
        "           f1_score(y_test,y_predNaiveBayes,average='macro')])\n",
        "\n",
        "\n",
        "print(t)"
      ],
      "metadata": {
        "id": "Ouil-cf_d8jW",
        "colab": {
          "base_uri": "https://localhost:8080/"
        },
        "outputId": "a17981f2-025f-4ce2-8817-5c3374fb197a"
      },
      "execution_count": 15,
      "outputs": [
        {
          "output_type": "stream",
          "name": "stdout",
          "text": [
            "+--------------+--------------------+--------------------+--------------------+--------------------+\n",
            "|  Regression  |      accuracy      |     precision      |       recall       |         f1         |\n",
            "+--------------+--------------------+--------------------+--------------------+--------------------+\n",
            "| DecisionTree | 0.7990444908928038 | 0.7985169225231814 | 0.7989319326048401 | 0.7986722721127568 |\n",
            "|     kNN      | 0.7363392057330547 | 0.735841010813109  | 0.7348398435265175 | 0.7351543688776938 |\n",
            "|    Forest    | 0.8498059122126008 | 0.8505046937049763 | 0.8512629441043538 | 0.8497724265138339 |\n",
            "| Naive Bayes  | 0.7438041206330248 | 0.7509054749561079 | 0.7386402969277419 | 0.7387679306911467 |\n",
            "+--------------+--------------------+--------------------+--------------------+--------------------+\n"
          ]
        }
      ]
    },
    {
      "cell_type": "markdown",
      "source": [
        "#3.4. Using selection feature to above dataset, then compare the classification results with those in Task 2.3. "
      ],
      "metadata": {
        "id": "SweVRB4meApP"
      }
    },
    {
      "cell_type": "code",
      "source": [
        "importances = clf.feature_importances_\n",
        "#sort\n",
        "sorted_idx = np.argsort(importances)[::-1]\n",
        "#print rank\n",
        "for idx in sorted_idx:\n",
        "    print(f\"{importances[idx]}\")\n",
        "\n",
        "sfm = SelectFromModel(clf, threshold=0.01)\n",
        "X_train = sfm.fit_transform(X_train, y_train)\n",
        "X_test = sfm.transform(X_test)\n",
        "decision = tree.DecisionTreeClassifier()\n",
        "decision.fit(X_train, y_train) \n",
        "y_predDes = decision.predict(X_test)\n",
        "\n",
        "\n",
        "clf=RandomForestClassifier(n_estimators=100)\n",
        "#Train the model using the training sets\n",
        "clf.fit(X_train,y_train)\n",
        "y_predForest = clf.predict(X_test)\n",
        "\n",
        "neigh = KNeighborsClassifier(n_neighbors=3)\n",
        "neigh.fit(X_train, y_train)\n",
        "y_predKnn = neigh.predict(X_test)\n",
        "\n",
        "model = GaussianNB()\n",
        "model.fit(X_train, y_train)\n",
        "y_predNaiveBayes = model.predict(X_test)\n",
        "\n",
        "\n",
        "t = PrettyTable([\"Regression\",\"accuracy\",\"precision\",\"recall\",\"f1\"])\n",
        "\n",
        "t.add_row([\"DecisionTree\",accuracy_score(y_test,y_predDes),\n",
        "           precision_score(y_test,y_predDes,average='macro'),\n",
        "           recall_score(y_test,y_predDes,average='macro'),\n",
        "           f1_score(y_test,y_predDes,average='macro')])\n",
        "\n",
        "t.add_row([\"kNN\",accuracy_score(y_test,y_predKnn),\n",
        "           precision_score(y_test,y_predKnn,average='macro'),\n",
        "           recall_score(y_test,y_predKnn,average='macro'),\n",
        "           f1_score(y_test,y_predKnn,average='macro')])\n",
        "\n",
        "t.add_row([\"Forest\",accuracy_score(y_test,y_predForest),\n",
        "           precision_score(y_test,y_predForest,average='macro'),\n",
        "           recall_score(y_test,y_predForest,average='macro'),\n",
        "           f1_score(y_test,y_predForest,average='macro')])\n",
        "t.add_row([\"Naive Bayes\",accuracy_score(y_test,y_predNaiveBayes),\n",
        "           precision_score(y_test,y_predNaiveBayes,average='macro'),\n",
        "           recall_score(y_test,y_predNaiveBayes,average='macro'),\n",
        "           f1_score(y_test,y_predNaiveBayes,average='macro')])\n",
        "print(t)"
      ],
      "metadata": {
        "id": "seFBhqCSeC7C",
        "colab": {
          "base_uri": "https://localhost:8080/"
        },
        "outputId": "ed6c325f-4d9c-412c-9e16-02de057f3dcd"
      },
      "execution_count": 18,
      "outputs": [
        {
          "output_type": "stream",
          "name": "stdout",
          "text": [
            "0.32312537560714416\n",
            "0.07755709798306455\n",
            "0.07599018710459744\n",
            "0.06346376949396383\n",
            "0.03630936240743571\n",
            "0.03361674454727005\n",
            "0.03305591952888461\n",
            "0.021584011327029175\n",
            "0.01982845021027948\n",
            "0.01815345380883247\n",
            "0.017077422162883556\n",
            "0.01551810014734721\n",
            "0.013022677906804605\n",
            "0.013006683533183194\n",
            "0.012182776385118064\n",
            "0.011408950866191984\n",
            "0.010887021160058902\n",
            "0.010859277967284873\n",
            "0.01018765687958347\n",
            "0.009987869853064098\n",
            "0.009776009622107288\n",
            "0.009655560477368229\n",
            "0.009480076950806412\n",
            "0.008704800906350353\n",
            "0.008627356021930023\n",
            "0.008464904764971\n",
            "0.008461353367741948\n",
            "0.008406458786982068\n",
            "0.008342191903221632\n",
            "0.007629469066302281\n",
            "0.007129527556189556\n",
            "0.007019845075639318\n",
            "0.006077521083803499\n",
            "0.005853329881272197\n",
            "0.005811323942711976\n",
            "0.005470950015979074\n",
            "0.0048306454959122615\n",
            "0.00473339683359136\n",
            "0.004677992007131833\n",
            "0.004499790034176601\n",
            "0.004107177571912137\n",
            "0.003971195531251759\n",
            "0.003950279488357358\n",
            "0.0038563548566726467\n",
            "0.0031512766592549017\n",
            "0.003052240384047211\n",
            "0.0025175177539707508\n",
            "0.0015011106265621862\n",
            "0.0012642685932786773\n",
            "0.0012002958508551948\n",
            "0.0009529700096269506\n",
            "+--------------+--------------------+--------------------+--------------------+--------------------+\n",
            "|  Regression  |      accuracy      |     precision      |       recall       |         f1         |\n",
            "+--------------+--------------------+--------------------+--------------------+--------------------+\n",
            "| DecisionTree | 0.7763511495968946 | 0.7757887242309536 | 0.7756289690485726 | 0.7757032051341091 |\n",
            "|     kNN      | 0.7363392057330547 | 0.735841010813109  | 0.7348398435265175 | 0.7351543688776938 |\n",
            "|    Forest    | 0.8453269632726187 | 0.8460478738094168 | 0.8467875736598204 | 0.8452938448641804 |\n",
            "| Naive Bayes  | 0.749776052553001  | 0.762848197726021  | 0.7433437982722124 | 0.742866121820714  |\n",
            "+--------------+--------------------+--------------------+--------------------+--------------------+\n"
          ]
        }
      ]
    },
    {
      "cell_type": "markdown",
      "source": [
        "#Task 4. \n",
        "For a given dataset in the Lab #5 (**credit card dataset**), perform feature selection and thencompare the performance of selected classification algorithms (Decision Tree, kNN, Logistic Regression, SVM, Random Forest and NaiveBayes) based on accuracy, precision, recall, f1 measures.\n"
      ],
      "metadata": {
        "id": "Z5pp7_h-aP2u"
      }
    },
    {
      "cell_type": "code",
      "source": [
        "dataSet = pd.read_csv(\"creditcard.csv\")\n",
        "\n",
        "X = dataSet.head(10000).drop('Class', axis=1)\n",
        "y = dataSet.head(10000)['Class']\n",
        "#Chuan hoa du lieu\n",
        "scaler = StandardScaler()\n",
        "X_scaled = scaler.fit_transform(X)\n",
        "\n",
        "\n",
        "\n",
        "X_train, X_test, y_train, y_test = train_test_split(X_scaled,y, test_size=0.3, random_state=1)\n",
        "\n",
        "decision = tree.DecisionTreeClassifier()\n",
        "decision.fit(X_train, y_train) \n",
        "y_predDes = decision.predict(X_test)\n",
        "\n",
        "\n",
        "clf=RandomForestClassifier(n_estimators=100)\n",
        "#Train the model using the training sets\n",
        "clf.fit(X_train,y_train)\n",
        "y_predForest = clf.predict(X_test)\n",
        "\n",
        "neigh = KNeighborsClassifier(n_neighbors=3)\n",
        "neigh.fit(X_train, y_train)\n",
        "y_predKnn = neigh.predict(X_test)\n",
        "\n",
        "model = GaussianNB()\n",
        "model.fit(X_train, y_train)\n",
        "y_predNaiveBayes = model.predict(X_test)\n",
        "\n",
        "\n",
        "t = PrettyTable([\"Regression\",\"accuracy\",\"precision\",\"recall\",\"f1\"])\n",
        "\n",
        "t.add_row([\"DecisionTree\",accuracy_score(y_test,y_predDes),\n",
        "           precision_score(y_test,y_predDes,average='macro'),\n",
        "           recall_score(y_test,y_predDes,average='macro'),\n",
        "           f1_score(y_test,y_predDes,average='macro')])\n",
        "\n",
        "\n",
        "t.add_row([\"kNN\",accuracy_score(y_test,y_predKnn),\n",
        "           precision_score(y_test,y_predKnn,average='macro'),\n",
        "           recall_score(y_test,y_predKnn,average='macro'),\n",
        "           f1_score(y_test,y_predKnn,average='macro')])\n",
        "\n",
        "t.add_row([\"Forest\",accuracy_score(y_test,y_predForest),\n",
        "           precision_score(y_test,y_predForest,average='macro'),\n",
        "           recall_score(y_test,y_predForest,average='macro'),\n",
        "           f1_score(y_test,y_predForest,average='macro')])\n",
        "t.add_row([\"Naive Bayes\",accuracy_score(y_test,y_predNaiveBayes),\n",
        "           precision_score(y_test,y_predNaiveBayes,average='macro'),\n",
        "           recall_score(y_test,y_predNaiveBayes,average='macro'),\n",
        "           f1_score(y_test,y_predNaiveBayes,average='macro')])\n",
        "\n",
        "\n",
        "print(t)"
      ],
      "metadata": {
        "id": "Rw_-8FIf2KxW",
        "colab": {
          "base_uri": "https://localhost:8080/"
        },
        "outputId": "4b092dc4-9818-4d62-8995-c6dcdba82dc6"
      },
      "execution_count": 22,
      "outputs": [
        {
          "output_type": "stream",
          "name": "stdout",
          "text": [
            "+--------------+--------------------+--------------------+--------------------+--------------------+\n",
            "|  Regression  |      accuracy      |     precision      |       recall       |         f1         |\n",
            "+--------------+--------------------+--------------------+--------------------+--------------------+\n",
            "| DecisionTree | 0.9983333333333333 | 0.8331659973226238 | 0.9437757717597236 | 0.880534250830287  |\n",
            "|     kNN      |       0.999        | 0.9994989979959921 | 0.8333333333333333 | 0.899749373433584  |\n",
            "|    Forest    |       0.999        | 0.9994989979959921 | 0.8333333333333333 | 0.899749373433584  |\n",
            "| Naive Bayes  |       0.991        | 0.6174784816151679 | 0.940098071993759  | 0.6837802702312308 |\n",
            "+--------------+--------------------+--------------------+--------------------+--------------------+\n"
          ]
        }
      ]
    },
    {
      "cell_type": "code",
      "source": [
        "importances2 = clf.feature_importances_\n",
        "sorted_idx = np.argsort(importances)[::-1]\n",
        "for idx in sorted_idx:\n",
        "    print(f\"{importances[idx]}\")  \n",
        "\n",
        "sfm = SelectFromModel(clf, threshold=0.012)\n",
        "X_train = sfm.fit_transform(X_train, y_train)\n",
        "X_test = sfm.transform(X_test)\n",
        "\n",
        "\n",
        "decision = tree.DecisionTreeClassifier()\n",
        "decision.fit(X_train, y_train) \n",
        "y_predDes = decision.predict(X_test)\n",
        "\n",
        "\n",
        "clf=RandomForestClassifier(n_estimators=100)\n",
        "#Train the model using the training sets\n",
        "clf.fit(X_train,y_train)\n",
        "y_predForest = clf.predict(X_test)\n",
        "\n",
        "neigh = KNeighborsClassifier(n_neighbors=3)\n",
        "neigh.fit(X_train, y_train)\n",
        "y_predKnn = neigh.predict(X_test)\n",
        "\n",
        "model = GaussianNB()\n",
        "model.fit(X_train, y_train)\n",
        "y_predNaiveBayes = model.predict(X_test)\n",
        "\n",
        "\n",
        "t = PrettyTable([\"Regression\",\"accuracy\",\"precision\",\"recall\",\"f1\"])\n",
        "\n",
        "t.add_row([\"DecisionTree\",accuracy_score(y_test,y_predDes),\n",
        "           precision_score(y_test,y_predDes,average='macro'),\n",
        "           recall_score(y_test,y_predDes,average='macro'),\n",
        "           f1_score(y_test,y_predDes,average='macro')])\n",
        "\n",
        "\n",
        "t.add_row([\"kNN\",accuracy_score(y_test,y_predKnn),\n",
        "           precision_score(y_test,y_predKnn,average='macro'),\n",
        "           recall_score(y_test,y_predKnn,average='macro'),\n",
        "           f1_score(y_test,y_predKnn,average='macro')])\n",
        "\n",
        "t.add_row([\"Forest\",accuracy_score(y_test,y_predForest),\n",
        "           precision_score(y_test,y_predForest,average='macro'),\n",
        "           recall_score(y_test,y_predForest,average='macro'),\n",
        "           f1_score(y_test,y_predForest,average='macro')])\n",
        "t.add_row([\"Naive Bayes\",accuracy_score(y_test,y_predNaiveBayes),\n",
        "           precision_score(y_test,y_predNaiveBayes,average='macro'),\n",
        "           recall_score(y_test,y_predNaiveBayes,average='macro'),\n",
        "           f1_score(y_test,y_predNaiveBayes,average='macro')])\n",
        "\n",
        "\n",
        "print(t)"
      ],
      "metadata": {
        "colab": {
          "base_uri": "https://localhost:8080/"
        },
        "id": "qm7WJg6bUxu4",
        "outputId": "bb0e6a3b-6814-4c46-8cbd-05091ec75cdb"
      },
      "execution_count": 23,
      "outputs": [
        {
          "output_type": "stream",
          "name": "stdout",
          "text": [
            "0.32312537560714416\n",
            "0.07755709798306455\n",
            "0.07599018710459744\n",
            "0.06346376949396383\n",
            "0.03630936240743571\n",
            "0.03361674454727005\n",
            "0.03305591952888461\n",
            "0.021584011327029175\n",
            "0.01982845021027948\n",
            "0.01815345380883247\n",
            "0.017077422162883556\n",
            "0.01551810014734721\n",
            "0.013022677906804605\n",
            "0.013006683533183194\n",
            "0.012182776385118064\n",
            "0.011408950866191984\n",
            "0.010887021160058902\n",
            "0.010859277967284873\n",
            "0.01018765687958347\n",
            "0.009987869853064098\n",
            "0.009776009622107288\n",
            "0.009655560477368229\n",
            "0.009480076950806412\n",
            "0.008704800906350353\n",
            "0.008627356021930023\n",
            "0.008464904764971\n",
            "0.008461353367741948\n",
            "0.008406458786982068\n",
            "0.008342191903221632\n",
            "0.007629469066302281\n",
            "0.007129527556189556\n",
            "0.007019845075639318\n",
            "0.006077521083803499\n",
            "0.005853329881272197\n",
            "0.005811323942711976\n",
            "0.005470950015979074\n",
            "0.0048306454959122615\n",
            "0.00473339683359136\n",
            "0.004677992007131833\n",
            "0.004499790034176601\n",
            "0.004107177571912137\n",
            "0.003971195531251759\n",
            "0.003950279488357358\n",
            "0.0038563548566726467\n",
            "0.0031512766592549017\n",
            "0.003052240384047211\n",
            "0.0025175177539707508\n",
            "0.0015011106265621862\n",
            "0.0012642685932786773\n",
            "0.0012002958508551948\n",
            "0.0009529700096269506\n",
            "+--------------+--------------------+--------------------+--------------------+--------------------+\n",
            "|  Regression  |      accuracy      |     precision      |       recall       |         f1         |\n",
            "+--------------+--------------------+--------------------+--------------------+--------------------+\n",
            "| DecisionTree | 0.9983333333333333 | 0.8496655518394649 | 0.8883873843753483 | 0.8680030623289539 |\n",
            "|     kNN      |       0.999        | 0.9994989979959921 | 0.8333333333333333 | 0.899749373433584  |\n",
            "|    Forest    |       0.999        | 0.9371657754010696 | 0.8887217207177087 | 0.9115139955363727 |\n",
            "| Naive Bayes  |       0.994        | 0.6598319327731093 | 0.9416025855343809 | 0.7337855692058922 |\n",
            "+--------------+--------------------+--------------------+--------------------+--------------------+\n"
          ]
        }
      ]
    },
    {
      "cell_type": "markdown",
      "source": [
        "#Finally,\n",
        "Save a copy in your Github. Remember renaming the notebook."
      ],
      "metadata": {
        "id": "Ok7RGkea_b7n"
      }
    }
  ]
}