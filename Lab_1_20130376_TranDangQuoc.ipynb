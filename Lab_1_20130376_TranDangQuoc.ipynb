{
  "nbformat": 4,
  "nbformat_minor": 0,
  "metadata": {
    "colab": {
      "provenance": [],
      "authorship_tag": "ABX9TyOXNo7kZtjn1sAb0zWYJ/DJ",
      "include_colab_link": true
    },
    "kernelspec": {
      "name": "python3",
      "display_name": "Python 3"
    },
    "language_info": {
      "name": "python"
    }
  },
  "cells": [
    {
      "cell_type": "markdown",
      "metadata": {
        "id": "view-in-github",
        "colab_type": "text"
      },
      "source": [
        "<a href=\"https://colab.research.google.com/github/couqdev/MachineLearning/blob/main/Lab_1_20130376_TranDangQuoc.ipynb\" target=\"_parent\"><img src=\"https://colab.research.google.com/assets/colab-badge.svg\" alt=\"Open In Colab\"/></a>"
      ]
    },
    {
      "cell_type": "code",
      "execution_count": 74,
      "metadata": {
        "colab": {
          "base_uri": "https://localhost:8080/"
        },
        "id": "fcL24xFaquXC",
        "outputId": "e1216943-5f2d-47bd-abcd-ae72e3a48310"
      },
      "outputs": [
        {
          "output_type": "stream",
          "name": "stdout",
          "text": [
            "Nhap n: \n",
            "4\n",
            "x(0) = -2\n",
            "x(1) = 9\n",
            "x(2) = 4\n",
            "x(3) = 5\n",
            "Max: \n",
            "9\n",
            "Min: \n",
            "-2\n",
            "Sum: \n",
            "16\n",
            "Sorted: \n",
            "[-2, 4, 5, 9]\n",
            "So am: \n",
            "1\n",
            "So duong: \n",
            "3\n"
          ]
        }
      ],
      "source": [
        "# Task 1.1\n",
        "print(\"Nhap n: \")\n",
        "n = int(input())\n",
        "data = []\n",
        "for i in range(n):\n",
        "  data.append(int(input(\"x(\"+str(i)+\") = \")))\n",
        "print(\"Max: \")\n",
        "print(max(data))\n",
        "print(\"Min: \")\n",
        "print(min(data))\n",
        "print(\"Sum: \")\n",
        "print(sum(data))\n",
        "print(\"Sorted: \")\n",
        "print(sorted(data))\n",
        "\n",
        "a = 0\n",
        "d = 0\n",
        "for j in data:\n",
        "  if j< 0:\n",
        "    a = a+1\n",
        "  elif(j>0):\n",
        "    d = d+1\n",
        "print(\"So am: \")\n",
        "print(a)\n",
        "print(\"So duong: \")\n",
        "print(d)\n"
      ]
    },
    {
      "cell_type": "code",
      "execution_count": 75,
      "metadata": {
        "colab": {
          "base_uri": "https://localhost:8080/"
        },
        "outputId": "49007b24-8edf-4165-e56b-a2ac4adb72c6",
        "id": "bf4TUln7tUkX"
      },
      "outputs": [
        {
          "output_type": "stream",
          "name": "stdout",
          "text": [
            "1.3333333333333333\n"
          ]
        }
      ],
      "source": [
        "# Task 1.2\n",
        "def Sn(n):\n",
        "  sn = 0\n",
        "  for i in range(n +1):\n",
        "    sn += 1/(2*i+1)\n",
        "  return sn\n",
        "\n",
        "print(Sn(1))\n"
      ]
    },
    {
      "cell_type": "code",
      "source": [
        "# Task 1.3\n",
        "import datetime as d\n",
        "class Product(object):\n",
        "  def __init__(self, name, kind, price, expiredDate):\n",
        "    self.name = name\n",
        "    self.kind = kind\n",
        "    self.price = price\n",
        "    self.__expiredDate =expiredDate\n",
        "\n",
        "  def toString(seft):\n",
        "    return seft.name\n",
        "\n",
        "  def getPrice(seft):\n",
        "    return seft.price\n",
        "  \n",
        "  def getName(seft):\n",
        "    return seft.name\n",
        "  def getKind(seft):\n",
        "    return seft.kind\n",
        "\n",
        "class OderItem(object):\n",
        "  def __init__(self, item, amount):\n",
        "    self.item = item\n",
        "    self.amount = amount\n",
        "\n",
        "  def getItem(seft):\n",
        "    return seft.item\n",
        "\n",
        "  def getAmount(seft):\n",
        "    return seft.amount\n",
        "\n",
        "class Order(object):\n",
        "  def __init__(self, id, customer, employee, date):\n",
        "    self.__id =id\n",
        "    self.__customer =customer\n",
        "    self.__employee = employee\n",
        "    self.__date = date\n",
        "    self.items = list()\n",
        "\n",
        "  def addItems(seft, orderItems):\n",
        "    return seft.items.append(orderItems)\n",
        "\n",
        "class OrderManager():\n",
        "  def __init__(seft):\n",
        "    seft.orders = list()\n",
        "  \n",
        "  def addOrder(seft, order):\n",
        "    return seft.orders.append(order)\n",
        "\n",
        "  def getOrders(seft):\n",
        "    return seft.orders\n",
        "\n",
        "  def highestPrice(seft):\n",
        "    max = 0\n",
        "    name = \"\"\n",
        "    for i in seft.orders:\n",
        "      for j in i.items:\n",
        "        if(max < j.getItem().getPrice()):\n",
        "          max = j.getItem().getPrice()\n",
        "          name = j.getItem().getName()\n",
        "\n",
        "      return name\n",
        "  def quantityStatistics(seft):\n",
        "\n",
        "    kind = {}\n",
        "    for i in seft.orders:\n",
        "      for j in i.items:\n",
        "        if j.getItem().getKind() in kind:\n",
        "          kind[j.getItem().getKind()] = kind[j.getItem().getKind()] + j.getAmount()\n",
        "        elif j.getItem().getKind() not in kind:\n",
        "          kind[j.getItem().getKind()] = j.getAmount()\n",
        "            \n",
        "    return kind\n",
        "\n",
        "if __name__ == \"__main__\":\n",
        "   product1 = Product(\"Yamaha R1\",\"Motocycle\",10000,d.date(2015,7,10))\n",
        "   product2 = Product(\"Kawasaki ZX-10R\",\"Motocycle\",28313232,d.date(2015,6,10))\n",
        "   product3 = Product(\"Ducati V4s\",\"Motocycle\",821172,d.date(2018,1,18))\n",
        "   product4 = Product(\"Bmw M2\",\"Car\",92022,d.date(2019,1,18))\n",
        "   product5 = Product(\"Honda Cbr1000RRR\",\"Motocycle\",947372,d.date(2019,1,16))\n",
        "   product6 = Product(\"Suzuki GSX1000R\",\"Motocycle\",1929873,d.date(2015,7,18))\n",
        "   \n",
        "   oderItem1 = OderItem(product1,7)\n",
        "   oderItem2 = OderItem(product2,2)\n",
        "   oderItem3 = OderItem(product3,6)\n",
        "   oderItem4 = OderItem(product4,7)\n",
        "   oderItem5 = OderItem(product5,9)\n",
        "   oderItem6 = OderItem(product6,10)\n",
        "\n",
        "   order1 = Order(\"#1\",\"Tran\", \"Nhan vien\", d.date(2023,2,20))\n",
        "   order1.addItems(oderItem1)\n",
        "   order1.addItems(oderItem2)\n",
        "   order1.addItems(oderItem5)\n",
        "   order1.addItems(oderItem6)\n",
        "   order2 = Order(\"#2\",\"Dang\", \"Truong phong\", d.date(2023,2,20))\n",
        "   order2.addItems(oderItem1)\n",
        "   order2.addItems(oderItem2)\n",
        "   order2.addItems(oderItem4)\n",
        "   order3 = Order(\"#3\",\"Quoc\", \"Bao ve\", d.date(2023,2,20))\n",
        "   order3.addItems(oderItem1)\n",
        "   order3.addItems(oderItem3)\n",
        "\n",
        "   orderManager = OrderManager()\n",
        "   orderManager.addOrder(order1)\n",
        "   orderManager.addOrder(order2)\n",
        "   orderManager.addOrder(order3)\n",
        "   \n",
        "   print(\"San pham co gia cao nhat: \")\n",
        "   print(orderManager.highestPrice())\n",
        "   print(\"Thong ke so luong san pham theo loai: \")\n",
        "   print(orderManager.quantityStatistics())"
      ],
      "metadata": {
        "id": "Yw00FbgRu4F7",
        "colab": {
          "base_uri": "https://localhost:8080/"
        },
        "outputId": "7cae0895-977c-44fd-897c-bb65e025e9a3"
      },
      "execution_count": 132,
      "outputs": [
        {
          "output_type": "stream",
          "name": "stdout",
          "text": [
            "San pham co gia cao nhat: \n",
            "Kawasaki ZX-10R\n",
            "Thong ke so luong san pham theo loai: \n",
            "{'Motocycle': 50, 'Car': 7}\n"
          ]
        }
      ]
    },
    {
      "cell_type": "code",
      "source": [
        "import numpy as np\n",
        "# Task 2.1\n",
        "arr1  = np.arange(10,26,1)\n",
        "print(arr1)\n",
        "temporary = 0\n",
        "stop = arr1.size/2\n",
        "size = arr1.size\n",
        "len =0\n",
        "x= 0\n",
        "for i in arr1:\n",
        "  size = size -1\n",
        "  if x<stop:\n",
        "    temporary = arr1[size]\n",
        "    arr1[size] = i\n",
        "    arr1[x] = temporary\n",
        "  x+=1\n",
        "print(arr1)\n"
      ],
      "metadata": {
        "colab": {
          "base_uri": "https://localhost:8080/"
        },
        "id": "fVQ3DDeVlTCR",
        "outputId": "6d0c70a2-1cdb-4467-c40d-b363735c075a"
      },
      "execution_count": 131,
      "outputs": [
        {
          "output_type": "stream",
          "name": "stdout",
          "text": [
            "[10 11 12 13 14 15 16 17 18 19 20 21 22 23 24 25]\n",
            "[25 24 23 22 21 20 19 18 17 16 15 14 13 12 11 10]\n"
          ]
        }
      ]
    },
    {
      "cell_type": "code",
      "source": [
        "# Task 2.2\n",
        "def repeat(array, n):\n",
        "  temporary = array.size*n\n",
        "  data = np.arange(0,temporary,1)\n",
        "  x =0\n",
        "  for i in range(temporary):\n",
        "    data[i] = array[x]\n",
        "    x= (x+1)%4\n",
        "\n",
        "  return data\n",
        "\n",
        "print(repeat(np.array([1,2,3,4]), 5))"
      ],
      "metadata": {
        "colab": {
          "base_uri": "https://localhost:8080/"
        },
        "id": "e-4sIWY0DEI4",
        "outputId": "d7b9c08c-2a63-4837-8df7-0cf25401d65d"
      },
      "execution_count": 133,
      "outputs": [
        {
          "output_type": "stream",
          "name": "stdout",
          "text": [
            "[1 2 3 4 1 2 3 4 1 2 3 4 1 2 3 4 1 2 3 4]\n"
          ]
        }
      ]
    },
    {
      "cell_type": "code",
      "source": [
        "# Task 2.3\n",
        "def thanDotFive(array2d):\n",
        "  x = 0\n",
        "  y = 0\n",
        "  a = -1\n",
        "  b = -1\n",
        "  for i in array2d:\n",
        "    a +=1\n",
        "    for j in i:\n",
        "      b +=1\n",
        "      x = (int)(j)\n",
        "      y = j -x\n",
        "      if y>0.5:\n",
        "        array2d[a,b] = x + 0.5\n",
        "    b = -1\n",
        "  return array2d\n",
        "\n",
        "print(\"Input: \")\n",
        "print(np.array([[ 0.42, 0.48, 0.32],[ 0.74, 0.58, 0.38],[ 0.51, 0.34, 0.15 ]]))\n",
        "print(\"Output: \")\n",
        "print(thanDotFive(np.array([[ 0.42, 0.48, 0.32],[ 0.74, 0.58, 0.38],[ 0.51, 0.34, 0.15 ]])))\n",
        "print(\"---------------------------------------------\")\n",
        "print(\"Input: \")\n",
        "print(np.array([[ 7.6, 3.3, 0.32],[ 0.74, 1.58, 0.38]]))\n",
        "print(\"Output: \")\n",
        "print(thanDotFive(np.array([[ 7.6, 3.3, 0.32],[ 0.74, 1.58, 0.38]])))"
      ],
      "metadata": {
        "colab": {
          "base_uri": "https://localhost:8080/"
        },
        "id": "z7AfAe5SJiAw",
        "outputId": "3a9ed109-0bb9-4593-bc66-1456cefc33c2"
      },
      "execution_count": 78,
      "outputs": [
        {
          "output_type": "stream",
          "name": "stdout",
          "text": [
            "Input: \n",
            "[[0.42 0.48 0.32]\n",
            " [0.74 0.58 0.38]\n",
            " [0.51 0.34 0.15]]\n",
            "Output: \n",
            "[[0.42 0.48 0.32]\n",
            " [0.5  0.5  0.38]\n",
            " [0.5  0.34 0.15]]\n",
            "---------------------------------------------\n",
            "Input: \n",
            "[[7.6  3.3  0.32]\n",
            " [0.74 1.58 0.38]]\n",
            "Output: \n",
            "[[7.5  3.3  0.32]\n",
            " [0.5  1.5  0.38]]\n"
          ]
        }
      ]
    }
  ]
}