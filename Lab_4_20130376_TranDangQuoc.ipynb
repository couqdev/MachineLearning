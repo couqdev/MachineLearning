{
  "nbformat": 4,
  "nbformat_minor": 0,
  "metadata": {
    "colab": {
      "provenance": [],
      "include_colab_link": true
    },
    "kernelspec": {
      "name": "python3",
      "display_name": "Python 3"
    },
    "language_info": {
      "name": "python"
    }
  },
  "cells": [
    {
      "cell_type": "markdown",
      "metadata": {
        "id": "view-in-github",
        "colab_type": "text"
      },
      "source": [
        "<a href=\"https://colab.research.google.com/github/couqdev/MachineLearning/blob/main/Lab_4_20130376_TranDangQuoc.ipynb\" target=\"_parent\"><img src=\"https://colab.research.google.com/assets/colab-badge.svg\" alt=\"Open In Colab\"/></a>"
      ]
    },
    {
      "cell_type": "markdown",
      "source": [
        "# This lab is to continous dealing with **Logistic Regression**, **kNN**, and **Decision Tree** alogirthms applied to classification tasks. \n",
        "\n",
        "*   **Deadline: 23:59, 12/03/2023**\n",
        "\n"
      ],
      "metadata": {
        "id": "LMzehe0sy5wr"
      }
    },
    {
      "cell_type": "markdown",
      "source": [
        "# Import libraries"
      ],
      "metadata": {
        "id": "H4nJmxp9zGX4"
      }
    },
    {
      "cell_type": "code",
      "source": [
        "from google.colab import drive\n",
        "drive.mount('/content/gdrive')\n",
        "%cd '/content/gdrive/MyDrive/MachineLeaning'"
      ],
      "metadata": {
        "colab": {
          "base_uri": "https://localhost:8080/"
        },
        "id": "3YhMqwPP9LQc",
        "outputId": "702e96a1-e08d-4e8c-ab57-fc5cc693766d"
      },
      "execution_count": null,
      "outputs": [
        {
          "output_type": "stream",
          "name": "stdout",
          "text": [
            "Mounted at /content/gdrive\n",
            "/content/gdrive/MyDrive/MachineLeaning\n"
          ]
        }
      ]
    },
    {
      "cell_type": "code",
      "execution_count": null,
      "metadata": {
        "id": "DoVWQ8AEyc-C"
      },
      "outputs": [],
      "source": [
        "from sklearn.linear_model import LogisticRegression\n",
        "from sklearn import datasets\n",
        "from sklearn.model_selection import train_test_split\n",
        "from sklearn.metrics import confusion_matrix\n",
        "from sklearn.metrics import accuracy_score\n",
        "import sklearn.metrics as metrics\n",
        "from sklearn.metrics import ConfusionMatrixDisplay\n",
        "from sklearn.metrics import precision_score\n",
        "from sklearn.metrics import recall_score\n",
        "import numpy as np\n",
        "from sklearn.neighbors import KNeighborsClassifier\n",
        "import pandas as pd"
      ]
    },
    {
      "cell_type": "markdown",
      "source": [
        "#Task 1. \n",
        "Apply **LogisticRegression** to iris dataset which aims at classifying species of iris based on sepal_length (chiều dài đài hoa), sepal_width, petal_length (chiều dài cánh hoa), petal_width. The species are '**setosa**' '**versicolor**' and '**virginica**'. \n",
        "\n",
        "\n",
        "\n",
        "```\n",
        "from sklearn import datasets\n",
        "data4 = datasets.load_iris()\n",
        "```\n",
        "\n",
        "\n"
      ],
      "metadata": {
        "id": "kNv07ARGzOUm"
      }
    },
    {
      "cell_type": "code",
      "source": [
        "from sklearn import metrics\n",
        "data4 = datasets.load_iris()\n",
        "X = data4.data\n",
        "y = data4.target\n",
        "X_train, X_test, y_train, y_test = train_test_split(X, y, test_size = 0.3)\n",
        "\n",
        "classifier = LogisticRegression(random_state = 0)\n",
        "classifier.fit(X_train, y_train)\n",
        "y_pred = classifier.predict(X_test)\n",
        "print(\"------------------------\")\n",
        "print(y_pred)\n",
        "\n",
        "cm = confusion_matrix(y_test, y_pred)\n",
        "print(\"------------------------\")\n",
        "print(cm)\n",
        "print (\"Accuracy : \", accuracy_score(y_test, y_pred))\n",
        "ConfusionMatrixDisplay.from_predictions(y_test, y_pred)\n",
        "precision_score(y_test, y_pred, average='macro')\n",
        "metrics.recall_score(y_test, y_pred, average='macro')\n",
        "metrics.f1_score(y_test, y_pred, average='macro')"
      ],
      "metadata": {
        "id": "sOsg77IBzEyo",
        "colab": {
          "base_uri": "https://localhost:8080/",
          "height": 435
        },
        "outputId": "c61d8b57-6e08-42f7-f65f-dd2482fe99db"
      },
      "execution_count": null,
      "outputs": [
        {
          "output_type": "stream",
          "name": "stdout",
          "text": [
            "------------------------\n",
            "[2 2 2 2 2 2 1 0 0 2 1 1 2 1 1 1 2 2 1 1 1 2 1 1 0 1 1 2 0 1 0 2 2 2 0 0 2\n",
            " 2 1 1 2 2 2 1 0]\n",
            "------------------------\n",
            "[[ 8  0  0]\n",
            " [ 0 15  1]\n",
            " [ 0  2 19]]\n",
            "Accuracy :  0.9333333333333333\n"
          ]
        },
        {
          "output_type": "execute_result",
          "data": {
            "text/plain": [
              "0.9453067257945307"
            ]
          },
          "metadata": {},
          "execution_count": 3
        },
        {
          "output_type": "display_data",
          "data": {
            "text/plain": [
              "<Figure size 432x288 with 2 Axes>"
            ],
            "image/png": "[encoded data removed]"
          },
          "metadata": {
            "needs_background": "light"
          }
        }
      ]
    },
    {
      "cell_type": "markdown",
      "source": [
        "#Task 2. \n",
        "Apply LogisticRegression to **MNIST** dataset (mnist.csv) which aims at classifying handwritten digits. Dataset includes 784 pixels values of images (28x28). \n",
        "\n",
        "\n",
        "```\n",
        "from sklearn import datasets\n",
        "# load the MNIST digits dataset\n",
        "mnist = datasets.load_digits()\n",
        "```\n",
        "\n"
      ],
      "metadata": {
        "id": "S43IoUT-0OQq"
      }
    },
    {
      "cell_type": "code",
      "source": [
        "from sklearn import datasets\n",
        "# load the MNIST digits dataset\n",
        "mnist = datasets.load_digits()\n",
        "X = mnist['data']\n",
        "y = mnist['target']\n",
        "X_train1, X_test1, y_train1, y_test1 = train_test_split(X, y, test_size = 0.3)\n",
        "classifier = LogisticRegression(random_state = 1)\n",
        "classifier.fit(X_train1, y_train1)\n",
        "y_pred1 = classifier.predict(X_test1)\n",
        "print(\"------------------------\")\n",
        "print(y_pred1)\n",
        "\n",
        "cm = confusion_matrix(y_test1, y_pred1)\n",
        "print(\"------------------------\")\n",
        "print(cm)\n",
        "print (\"Accuracy : \", accuracy_score(y_test1, y_pred1))\n",
        "ConfusionMatrixDisplay.from_predictions(y_test1, y_pred1)\n",
        "precision_score(y_test1, y_pred1, average='macro')\n",
        "metrics.recall_score(y_test1, y_pred1, average='macro')\n",
        "metrics.f1_score(y_test1, y_pred1, average='macro')"
      ],
      "metadata": {
        "id": "_xhPpF5b033h",
        "colab": {
          "base_uri": "https://localhost:8080/",
          "height": 921
        },
        "outputId": "ccdfde10-b667-4990-cf4b-f04de3d82e89"
      },
      "execution_count": null,
      "outputs": [
        {
          "output_type": "stream",
          "name": "stdout",
          "text": [
            "------------------------\n",
            "[7 5 1 6 6 3 6 2 7 7 9 9 0 8 6 6 8 7 1 6 0 4 6 1 2 9 2 5 0 8 9 4 6 8 0 4 3\n",
            " 3 3 1 5 2 7 2 6 4 8 6 0 6 6 5 8 2 7 7 8 5 9 8 8 9 1 8 4 1 9 4 6 2 2 5 9 7\n",
            " 4 1 5 0 2 3 1 2 3 7 9 1 8 5 7 1 8 1 9 6 5 9 0 0 6 0 1 0 1 1 3 3 3 4 8 6 1\n",
            " 1 8 4 9 4 5 9 4 7 1 0 5 2 7 7 5 3 3 6 8 8 5 9 4 9 3 8 8 5 4 7 8 4 4 3 5 6\n",
            " 4 0 3 8 9 0 1 0 5 4 9 7 5 0 6 2 9 7 0 8 5 5 1 2 9 4 4 2 2 3 0 5 9 5 6 3 3\n",
            " 7 4 6 1 7 6 8 1 4 5 7 4 9 5 9 4 5 6 0 8 7 8 1 6 4 7 1 7 7 9 9 5 7 8 6 1 7\n",
            " 6 5 3 6 2 4 2 0 1 6 9 9 3 3 5 2 5 4 2 8 8 8 2 4 9 1 7 2 8 5 2 2 0 8 6 5 4\n",
            " 6 4 4 1 2 0 6 7 5 4 2 9 5 0 2 4 6 5 6 0 4 0 8 2 1 8 0 2 6 2 2 8 3 6 4 5 6\n",
            " 0 5 6 0 4 8 4 0 9 2 3 1 9 6 7 8 2 1 4 3 3 4 4 0 0 0 7 6 2 5 5 0 9 5 1 3 0\n",
            " 4 4 2 6 7 9 5 5 5 2 9 3 3 3 0 9 9 1 3 3 2 1 1 8 2 7 5 1 7 8 6 8 7 1 6 5 2\n",
            " 2 1 4 4 2 0 4 0 8 8 3 0 7 7 5 7 4 0 9 6 7 6 1 4 1 4 8 8 9 3 5 4 1 5 2 6 8\n",
            " 8 6 1 1 6 9 6 1 9 5 3 2 3 2 8 4 3 8 0 9 1 3 5 7 0 3 5 7 9 7 2 6 8 0 7 6 6\n",
            " 6 9 4 0 4 9 7 5 9 2 0 8 1 3 1 9 9 7 6 3 7 9 7 1 9 7 9 3 8 1 0 4 8 6 0 8 4\n",
            " 7 1 8 4 3 5 6 0 2 8 9 4 3 9 6 0 4 5 4 5 2 2 2 2 2 5 7 6 7 6 1 8 3 1 0 4 1\n",
            " 7 0 6 7 4 9 2 0 2 8 0 9 5 1 1 3 0 0 0 9 4 8]\n",
            "------------------------\n",
            "[[54  0  0  0  0  1  0  0  0  0]\n",
            " [ 0 52  0  0  1  0  0  0  2  0]\n",
            " [ 0  0 52  0  0  0  0  0  0  0]\n",
            " [ 0  0  0 44  0  1  0  0  0  0]\n",
            " [ 0  1  0  0 59  0  0  1  0  0]\n",
            " [ 0  1  1  0  0 53  1  1  0  0]\n",
            " [ 0  0  0  0  0  0 58  0  1  0]\n",
            " [ 0  0  0  0  0  0  0 49  0  0]\n",
            " [ 0  0  0  0  0  0  0  0 51  0]\n",
            " [ 0  0  0  0  0  0  0  0  2 54]]\n",
            "Accuracy :  0.9740740740740741\n"
          ]
        },
        {
          "output_type": "stream",
          "name": "stderr",
          "text": [
            "/usr/local/lib/python3.9/dist-packages/sklearn/linear_model/_logistic.py:458: ConvergenceWarning: lbfgs failed to converge (status=1):\n",
            "STOP: TOTAL NO. of ITERATIONS REACHED LIMIT.\n",
            "\n",
            "Increase the number of iterations (max_iter) or scale the data as shown in:\n",
            "    https://scikit-learn.org/stable/modules/preprocessing.html\n",
            "Please also refer to the documentation for alternative solver options:\n",
            "    https://scikit-learn.org/stable/modules/linear_model.html#logistic-regression\n",
            "  n_iter_i = _check_optimize_result(\n"
          ]
        },
        {
          "output_type": "execute_result",
          "data": {
            "text/plain": [
              "0.974396960417239"
            ]
          },
          "metadata": {},
          "execution_count": 17
        },
        {
          "output_type": "display_data",
          "data": {
            "text/plain": [
              "<Figure size 432x288 with 2 Axes>"
            ],
            "image/png": "[encoded data removed]"
          },
          "metadata": {
            "needs_background": "light"
          }
        }
      ]
    },
    {
      "cell_type": "markdown",
      "source": [
        "#Task 3. \n",
        "Apply another classification algorithm named kNN, which is an instance classifcation model. \n",
        "*  3.1. Perform kNN algorithm to Iris dataset with k={1, 3, 5, …, 29}. Select the best value of k.\n",
        "\n",
        "*   3.2. Then compare the obtained results with those using Logistic regression (based on metrics: accuracy, precision, recall, f1 measure).\n"
      ],
      "metadata": {
        "id": "Rti2y0Wz2KY9"
      }
    },
    {
      "cell_type": "code",
      "source": [
        "import matplotlib.pyplot as plt\n",
        "k_range = np.arange(1,30,2)\n",
        "precision = []\n",
        "recall = []\n",
        "f1 = []\n",
        "accs = []\n",
        "for k in k_range:\n",
        "  KNN = KNeighborsClassifier(n_neighbors=k)\n",
        "  KNN.fit(X_train, y_train)\n",
        "  y_predKNN = KNN.predict(X_test)\n",
        "  precision.append(precision_score(y_test, y_predKNN, average='macro'))\n",
        "  recall.append(recall_score(y_test, y_predKNN, average='macro'))\n",
        "  f1.append(metrics.f1_score(y_test, y_predKNN, average='macro'))\n",
        "  accs.append(accuracy_score(y_test, y_predKNN))\n",
        "\n",
        "plt.plot(k_range, accs, label='Accuracy')\n",
        "plt.plot(k_range, precision, label='Precision')\n",
        "plt.plot(k_range, recall, label='Recall')\n",
        "plt.plot(k_range, f1, label='F1')\n",
        "plt.xlabel(\"k\")\n",
        "plt.legend()"
      ],
      "metadata": {
        "id": "13LkkfpS2ZUR",
        "colab": {
          "base_uri": "https://localhost:8080/",
          "height": 296
        },
        "outputId": "a73d46b9-e914-4acf-e5ee-9a7d7bac34e0"
      },
      "execution_count": null,
      "outputs": [
        {
          "output_type": "execute_result",
          "data": {
            "text/plain": [
              "<matplotlib.legend.Legend at 0x7f043e8118b0>"
            ]
          },
          "metadata": {},
          "execution_count": 13
        },
        {
          "output_type": "display_data",
          "data": {
            "text/plain": [
              "<Figure size 432x288 with 1 Axes>"
            ],
            "image/png": "[encoded data removed]"
          },
          "metadata": {
            "needs_background": "light"
          }
        }
      ]
    },
    {
      "cell_type": "markdown",
      "source": [
        "#Task 4. \n",
        "Similar to Task 3, apply kNN algorithm to **mnist** dataset which included in datasets of sklearn API.\n",
        "*  4.1.\tPerform kNN algorithm to Iris dataset with k={1, 3, 5, …, 29}. Select the best value of k.\n",
        "*  4.2.\tThen compare the obtained results with those using Logistic regression (based on metrics: accuracy, precision, recall, f1 measure).\n"
      ],
      "metadata": {
        "id": "b52OPWPD2afi"
      }
    },
    {
      "cell_type": "code",
      "source": [
        "# code\n",
        "import matplotlib.pyplot as plt\n",
        "k_range = np.arange(1,30,2)\n",
        "precision = []\n",
        "recall = []\n",
        "f1 = []\n",
        "accs = []\n",
        "for k in k_range:\n",
        "  KNN = KNeighborsClassifier(n_neighbors=k)\n",
        "  KNN.fit(X_train1, y_train1)\n",
        "  y_predKNN = KNN.predict(X_test1)\n",
        "  precision.append(precision_score(y_test1, y_predKNN, average='macro'))\n",
        "  recall.append(recall_score(y_test1, y_predKNN, average='macro'))\n",
        "  f1.append(metrics.f1_score(y_test1, y_predKNN, average='macro'))\n",
        "  accs.append(accuracy_score(y_test1, y_predKNN))\n",
        "plt.plot(k_range, accs, label='Accuracy')\n",
        "plt.plot(k_range, precision, label='Precision')\n",
        "plt.plot(k_range, recall, label='Recall')\n",
        "plt.plot(k_range, f1, label='F1')\n",
        "plt.xlabel(\"k\")\n",
        "plt.legend()"
      ],
      "metadata": {
        "id": "Rw_-8FIf2KxW",
        "colab": {
          "base_uri": "https://localhost:8080/",
          "height": 296
        },
        "outputId": "e0c07f49-5acd-4189-f2e4-82ccad056493"
      },
      "execution_count": null,
      "outputs": [
        {
          "output_type": "execute_result",
          "data": {
            "text/plain": [
              "<matplotlib.legend.Legend at 0x7f043d483f10>"
            ]
          },
          "metadata": {},
          "execution_count": 15
        },
        {
          "output_type": "display_data",
          "data": {
            "text/plain": [
              "<Figure size 432x288 with 1 Axes>"
            ],
            "image/png": "[encoded data removed]"
          },
          "metadata": {
            "needs_background": "light"
          }
        }
      ]
    },
    {
      "cell_type": "markdown",
      "source": [
        "#Task 5. \n",
        "Compare the performance of selected classification algorithms (**Decision Treen, kNN, and Logistic Regression**) to ***spam detection***. The dataset can be accessed from the link: http://archive.ics.uci.edu/ml/datasets/Spambase \n",
        "Attribute Information:\n",
        "The last column of 'spambase.csv denotes whether the e-mail was considered spam (1) or not (0), i.e. unsolicited commercial e-mail. Most of the attributes indicate whether a particular word or character was frequently occuring in the e-mail. The run-length attributes (55-57) measure the length of sequences of consecutive capital letters. For the statistical measures of each attribute, see the end of this file. Here are the definitions of the attributes: \n",
        "*  48 continuous real [0,100] attributes of type word_freq_WORD \n",
        "= percentage of words in the e-mail that match WORD, i.e. 100 * (number of times the WORD appears in the e-mail) / total number of words in e-mail. A \"word\" in this case is any string of alphanumeric characters bounded by non-alphanumeric characters or end-of-string. **Example**: word_freq_address: percentage of words in the e-mail that match ADDRESS.\n",
        "*  6 continuous real [0,100] attributes of type char_freq_CHAR] \n",
        "= percentage of characters in the e-mail that match CHAR, i.e. 100 * (number of CHAR occurences) / total characters in e-mail\n",
        "*  1 continuous real [1,...] attribute of type capital_run_length_average \n",
        "= average length of uninterrupted sequences of capital letters\n",
        "*  1 continuous integer [1,...] attribute of type capital_run_length_longest \n",
        "= length of longest uninterrupted sequence of capital letters\n",
        "*  1 continuous integer [1,...] attribute of type capital_run_length_total = sum of length of uninterrupted sequences of capital letters = total number of capital letters in the e-mail\n",
        "*  1 nominal {0,1} class attribute of type spam = denotes whether the e-mail was considered spam (1) or not (0), i.e. unsolicited commercial e-mail. \n",
        "\n",
        "\n",
        "---\n",
        "\n",
        "\n",
        "In order to compare the performance of selected algorithms, some common metrics including **accuracy, precision, recall, f1 measures** could be used.\n"
      ],
      "metadata": {
        "id": "MVzSk4l505E0"
      }
    },
    {
      "cell_type": "code",
      "source": [
        "dataset = pd.read_csv(\"spambase.csv\")\n",
        "# x = dataset.columns\n",
        "X = dataset[['word_freq_make', 'word_freq_address', 'word_freq_all', 'word_freq_3d',\n",
        "       'word_freq_our', 'word_freq_over', 'word_freq_remove',\n",
        "       'word_freq_internet', 'word_freq_order', 'word_freq_mail',\n",
        "       'word_freq_receive', 'word_freq_will', 'word_freq_people',\n",
        "       'word_freq_report', 'word_freq_addresses', 'word_freq_free',\n",
        "       'word_freq_business', 'word_freq_email', 'word_freq_you',\n",
        "       'word_freq_credit', 'word_freq_your', 'word_freq_font', 'word_freq_000',\n",
        "       'word_freq_money', 'word_freq_hp', 'word_freq_hpl', 'word_freq_george',\n",
        "       'word_freq_650', 'word_freq_lab', 'word_freq_labs', 'word_freq_telnet',\n",
        "       'word_freq_857', 'word_freq_data', 'word_freq_415', 'word_freq_85',\n",
        "       'word_freq_technology', 'word_freq_1999', 'word_freq_parts',\n",
        "       'word_freq_pm', 'word_freq_direct', 'word_freq_cs', 'word_freq_meeting',\n",
        "       'word_freq_original', 'word_freq_project', 'word_freq_re',\n",
        "       'word_freq_edu', 'word_freq_table', 'word_freq_conference',\n",
        "       'char_freq_%3B', 'char_freq_%28', 'char_freq_%5B', 'char_freq_%21',\n",
        "       'char_freq_%24', 'char_freq_%23', 'capital_run_length_average',\n",
        "       'capital_run_length_longest', 'capital_run_length_total']]\n",
        "y = dataset[['class']]\n",
        "\n",
        "X_train, X_test, y_train, y_test = train_test_split(X, y, test_size = 0.3, random_state=3)\n",
        "classifier = LogisticRegression(random_state = 3)\n",
        "classifier.fit(X_train, y_train)\n",
        "y_pred = classifier.predict(X_test)\n",
        "print(\"------------------------\")\n",
        "print(y_pred)\n",
        "\n",
        "cm = confusion_matrix(y_test, y_pred)\n",
        "print(\"------------------------\")\n",
        "print(cm)\n",
        "print (\"Accuracy : \", accuracy_score(y_test, y_pred))\n",
        "ConfusionMatrixDisplay.from_predictions(y_test, y_pred)\n",
        "precision_score(y_test, y_pred, average='macro')\n",
        "metrics.recall_score(y_test, y_pred, average='macro')\n",
        "metrics.f1_score(y_test, y_pred, average='macro')\n",
        "print(\"-----------------------------\")\n",
        "\n",
        "KNN = KNeighborsClassifier(50)\n",
        "KNN.fit(X_train, y_train)\n",
        "y_predKNN = KNN.predict(X_test)\n",
        "print(precision_score(y_test, y_predKNN, average='macro'))\n",
        "print(recall_score(y_test, y_predKNN, average='macro'))\n",
        "print(metrics.f1_score(y_test, y_predKNN, average='macro'))\n",
        "print(accuracy_score(y_test, y_predKNN))\n"
      ],
      "metadata": {
        "id": "W_1v_ivR2f6D",
        "colab": {
          "base_uri": "https://localhost:8080/",
          "height": 698
        },
        "outputId": "f96e986a-0ee2-429a-b921-837c2c3f194f"
      },
      "execution_count": null,
      "outputs": [
        {
          "output_type": "stream",
          "name": "stderr",
          "text": [
            "/usr/local/lib/python3.9/dist-packages/sklearn/utils/validation.py:1143: DataConversionWarning: A column-vector y was passed when a 1d array was expected. Please change the shape of y to (n_samples, ), for example using ravel().\n",
            "  y = column_or_1d(y, warn=True)\n",
            "/usr/local/lib/python3.9/dist-packages/sklearn/linear_model/_logistic.py:458: ConvergenceWarning: lbfgs failed to converge (status=1):\n",
            "STOP: TOTAL NO. of ITERATIONS REACHED LIMIT.\n",
            "\n",
            "Increase the number of iterations (max_iter) or scale the data as shown in:\n",
            "    https://scikit-learn.org/stable/modules/preprocessing.html\n",
            "Please also refer to the documentation for alternative solver options:\n",
            "    https://scikit-learn.org/stable/modules/linear_model.html#logistic-regression\n",
            "  n_iter_i = _check_optimize_result(\n"
          ]
        },
        {
          "output_type": "stream",
          "name": "stdout",
          "text": [
            "------------------------\n",
            "[1 0 0 ... 1 1 1]\n",
            "------------------------\n",
            "[[791  47]\n",
            " [ 62 481]]\n",
            "Accuracy :  0.9210716871832005\n",
            "-----------------------------\n"
          ]
        },
        {
          "output_type": "stream",
          "name": "stderr",
          "text": [
            "/usr/local/lib/python3.9/dist-packages/sklearn/neighbors/_classification.py:215: DataConversionWarning: A column-vector y was passed when a 1d array was expected. Please change the shape of y to (n_samples,), for example using ravel().\n",
            "  return self._fit(X, y)\n"
          ]
        },
        {
          "output_type": "stream",
          "name": "stdout",
          "text": [
            "0.74629840286534\n",
            "0.7369614138723699\n",
            "0.7405029595064359\n",
            "0.7566980448950036\n"
          ]
        },
        {
          "output_type": "display_data",
          "data": {
            "text/plain": [
              "<Figure size 432x288 with 2 Axes>"
            ],
            "image/png": "[encoded data removed]"
          },
          "metadata": {
            "needs_background": "light"
          }
        }
      ]
    },
    {
      "cell_type": "markdown",
      "source": [
        "#Finally,\n",
        "Save a copy in your Github. Remember renaming the notebook."
      ],
      "metadata": {
        "id": "Ok7RGkea_b7n"
      }
    }
  ]
}