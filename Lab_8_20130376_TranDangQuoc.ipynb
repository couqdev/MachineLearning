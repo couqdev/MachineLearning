{
  "nbformat": 4,
  "nbformat_minor": 0,
  "metadata": {
    "colab": {
      "provenance": [],
      "include_colab_link": true
    },
    "kernelspec": {
      "name": "python3",
      "display_name": "Python 3"
    },
    "language_info": {
      "name": "python"
    }
  },
  "cells": [
    {
      "cell_type": "markdown",
      "metadata": {
        "id": "view-in-github",
        "colab_type": "text"
      },
      "source": [
        "<a href=\"https://colab.research.google.com/github/couqdev/MachineLearning/blob/main/Lab_8_20130376_TranDangQuoc.ipynb\" target=\"_parent\"><img src=\"https://colab.research.google.com/assets/colab-badge.svg\" alt=\"Open In Colab\"/></a>"
      ]
    },
    {
      "cell_type": "markdown",
      "source": [
        "# This lab deals with **GridSearchCV** for tuning the hyper-parameters of an estimator and applying vectorization techniques to the **movie reviews dataset** for classification task. \n",
        "\n",
        "*   **Deadline: 23:59, 17/4/2023**\n",
        "\n"
      ],
      "metadata": {
        "id": "LMzehe0sy5wr"
      }
    },
    {
      "cell_type": "markdown",
      "source": [
        "# Import libraries"
      ],
      "metadata": {
        "id": "H4nJmxp9zGX4"
      }
    },
    {
      "cell_type": "code",
      "execution_count": 28,
      "metadata": {
        "id": "DoVWQ8AEyc-C"
      },
      "outputs": [],
      "source": [
        "from sklearn import datasets\n",
        "from sklearn.model_selection import GridSearchCV\n",
        "from sklearn import svm\n",
        "from sklearn.model_selection import train_test_split\n",
        "from sklearn.neighbors import KNeighborsClassifier\n",
        "import sklearn.metrics as metrics\n",
        "from prettytable import PrettyTable\n",
        "from sklearn.ensemble import RandomForestClassifier\n",
        "from sklearn.linear_model import LogisticRegression"
      ]
    },
    {
      "cell_type": "markdown",
      "source": [
        "#Task 1. With **iris** dataset\n",
        "*  1.1. Apply **GridSearchCV** for **SVM** to find the best hyperparameters using the following param_grid.\n",
        "\n",
        "```\n",
        "param_grid = {'C': [0.1, 1, 10, 100, 1000],\n",
        "              'gamma': [1, 0.1, 0.01, 0.001, 0.0001],\n",
        "              'kernel': ['rbf','linear']}\n",
        "```\n",
        "\n",
        "\n"
      ],
      "metadata": {
        "id": "x_dG9SA5OhGT"
      }
    },
    {
      "cell_type": "code",
      "source": [
        "data = datasets.load_iris()\n",
        "data\n",
        "X = data.data\n",
        "y = data.target\n",
        "X_train, X_test, y_train, y_test = train_test_split(X, y, test_size = 0.3, random_state=1)"
      ],
      "metadata": {
        "id": "j4DbtXUS5l4P"
      },
      "execution_count": 2,
      "outputs": []
    },
    {
      "cell_type": "code",
      "source": [
        "param_grid = {'C': [0.1, 1, 10, 100, 1000],\n",
        "              'gamma': [1, 0.1, 0.01, 0.001, 0.0001],\n",
        "              'kernel': ['rbf','linear']}\n",
        "\n",
        "svc = svm.SVC(kernel='sigmoid', random_state=0)\n",
        "grid_rf_class =  GridSearchCV(estimator=svc ,param_grid=param_grid, n_jobs=4,cv=10,refit=True,return_train_score=True)\n",
        "grid_rf_class.fit(X_train, y_train)\n",
        "y_pred = grid_rf_class.predict(X_test)\n",
        "sorted(grid_rf_class.cv_results_.keys())\n",
        "print(grid_rf_class.best_params_)\n",
        "acc1 = metrics.accuracy_score(y_test, y_pred)\n",
        "precision1 = metrics.precision_score(y_test, y_pred, average='micro')\n",
        "recall1 = metrics.recall_score(y_test, y_pred, average='micro')\n",
        "f11 = metrics.f1_score(y_test, y_pred, average='micro')\n",
        "\n",
        "t = PrettyTable(['','accuracy', 'precision', 'recall', 'f1'])\n",
        "t.add_row(['SVM',round(acc1, 3),round(precision1,3),round(recall1, 3),round(f11,3)])\n",
        "print(t)\n"
      ],
      "metadata": {
        "id": "62jExOZ952fF",
        "colab": {
          "base_uri": "https://localhost:8080/"
        },
        "outputId": "19140773-1d01-48d6-b055-ef5f22eb23ef"
      },
      "execution_count": 3,
      "outputs": [
        {
          "output_type": "stream",
          "name": "stdout",
          "text": [
            "{'C': 1, 'gamma': 1, 'kernel': 'linear'}\n",
            "+-----+----------+-----------+--------+-----+\n",
            "|     | accuracy | precision | recall |  f1 |\n",
            "+-----+----------+-----------+--------+-----+\n",
            "| SVM |   1.0    |    1.0    |  1.0   | 1.0 |\n",
            "+-----+----------+-----------+--------+-----+\n"
          ]
        }
      ]
    },
    {
      "cell_type": "markdown",
      "source": [
        "*  1.2. Apply **GridSearchCV** for **kNN** to find the best hyperparameters using the following param_grid.\n",
        "\n",
        "```\n",
        "grid_params = { 'n_neighbors' : [5,7,9,11,13,15],\n",
        "               'weights' : ['uniform','distance'],\n",
        "               'metric' : ['minkowski','euclidean','manhattan']}\n",
        "```\n",
        "where\n",
        "\n",
        "    *  **n_neighbors**: Decide the best k based on the values we have computed earlier.\n",
        "    *  **weights**: Check whether adding weights to the data points is beneficial to the model or not. 'uniform' assigns no weight, while 'distance' weighs points by the inverse of their distances meaning nearer points will have more weight than the farther points.\n",
        "    *  **metric**: The distance metric to be used will calculating the similarity.\n"
      ],
      "metadata": {
        "id": "2g--8cng53sY"
      }
    },
    {
      "cell_type": "code",
      "source": [
        "grid_params = { 'n_neighbors' : [5,7,9,11,13,15],\n",
        "               'weights' : ['uniform','distance'],\n",
        "               'metric' : ['minkowski','euclidean','manhattan']}\n",
        "k_range = grid_params['n_neighbors']\n",
        "for k in k_range:\n",
        "  KNN = KNeighborsClassifier(n_neighbors = k)\n",
        "  grid_rf_class =  GridSearchCV(estimator=KNN ,param_grid=grid_params,  n_jobs=4,cv=10,refit=True,return_train_score=True)\n",
        "  grid_rf_class.fit(X_train, y_train)\n",
        "  y_pred = grid_rf_class.predict(X_test)\n",
        "  sorted(grid_rf_class.cv_results_.keys())\n",
        "print(grid_rf_class.best_params_)\n",
        "acc2 = metrics.accuracy_score(y_test, y_pred)\n",
        "precision2 = metrics.precision_score(y_test, y_pred, average='micro')\n",
        "recall2 = metrics.recall_score(y_test, y_pred, average='micro')\n",
        "f12 = metrics.f1_score(y_test, y_pred, average='micro')\n",
        "t = PrettyTable(['','accuracy', 'precision', 'recall', 'f1'])\n",
        "t.add_row(['KNN',round(acc2, 3),round(precision2,3),round(recall2, 3),round(f12,3)])\n",
        "print(t)"
      ],
      "metadata": {
        "id": "fX0_kItYPism",
        "colab": {
          "base_uri": "https://localhost:8080/"
        },
        "outputId": "6cc1a57c-8c16-4771-c9fd-1bcd4e61af2f"
      },
      "execution_count": 4,
      "outputs": [
        {
          "output_type": "stream",
          "name": "stdout",
          "text": [
            "{'metric': 'minkowski', 'n_neighbors': 9, 'weights': 'distance'}\n",
            "+-----+----------+-----------+--------+-------+\n",
            "|     | accuracy | precision | recall |   f1  |\n",
            "+-----+----------+-----------+--------+-------+\n",
            "| KNN |  0.956   |   0.956   | 0.956  | 0.956 |\n",
            "+-----+----------+-----------+--------+-------+\n"
          ]
        }
      ]
    },
    {
      "cell_type": "markdown",
      "source": [
        "*  1.3. Apply **GridSearchCV** for **Random Forest** to find the best hyperparameters using the following param_grid.\n",
        "\n",
        "```\n",
        "param_grid = {\n",
        "    'n_estimators': [25, 50, 100, 150],\n",
        "    'max_features': ['sqrt', 'log2', None],\n",
        "    'max_depth': [3, 6, 9],\n",
        "    'max_leaf_nodes': [3, 6, 9],\n",
        "}\n",
        "```"
      ],
      "metadata": {
        "id": "3lQSOcjL_TIW"
      }
    },
    {
      "cell_type": "code",
      "source": [
        "param_grid = {\n",
        "    'n_estimators': [25, 50, 100, 150],\n",
        "    'max_features': ['sqrt', 'log2', None],\n",
        "    'max_depth': [3, 6, 9],\n",
        "    'max_leaf_nodes': [3, 6, 9],\n",
        "}\n",
        "random=RandomForestClassifier()\n",
        "grid_rf_class =  GridSearchCV(estimator= random ,param_grid=param_grid, n_jobs=4,cv=10,refit=True,return_train_score=True)\n",
        "grid_rf_class.fit(X_train, y_train)\n",
        "y_pred = grid_rf_class.predict(X_test)\n",
        "sorted(grid_rf_class.cv_results_.keys())\n",
        "print(grid_rf_class.best_params_)\n"
      ],
      "metadata": {
        "id": "OlyF9WpN_01p",
        "colab": {
          "base_uri": "https://localhost:8080/"
        },
        "outputId": "3eb5c101-e7d2-424b-c552-f974719e46b4"
      },
      "execution_count": 5,
      "outputs": [
        {
          "output_type": "stream",
          "name": "stdout",
          "text": [
            "{'max_depth': 9, 'max_features': 'log2', 'max_leaf_nodes': 3, 'n_estimators': 100}\n"
          ]
        }
      ]
    },
    {
      "cell_type": "code",
      "source": [
        "acc3 = metrics.accuracy_score(y_test, y_pred)\n",
        "precision3 = metrics.precision_score(y_test, y_pred, average='micro')\n",
        "recall3 = metrics.recall_score(y_test, y_pred, average='micro')\n",
        "f13 = metrics.f1_score(y_test, y_pred, average='micro')\n",
        "t = PrettyTable(['','accuracy', 'precision', 'recall', 'f1'])\n",
        "t.add_row(['KNN',acc3,precision3,recall3,f13])\n",
        "print(t)"
      ],
      "metadata": {
        "colab": {
          "base_uri": "https://localhost:8080/"
        },
        "id": "WRjpyV24D7Jv",
        "outputId": "2ff07435-5ef7-43e0-a3d0-f94b68d4de3f"
      },
      "execution_count": 7,
      "outputs": [
        {
          "output_type": "stream",
          "name": "stdout",
          "text": [
            "+-----+--------------------+--------------------+--------------------+--------------------+\n",
            "|     |      accuracy      |     precision      |       recall       |         f1         |\n",
            "+-----+--------------------+--------------------+--------------------+--------------------+\n",
            "| KNN | 0.9555555555555556 | 0.9555555555555556 | 0.9555555555555556 | 0.9555555555555556 |\n",
            "+-----+--------------------+--------------------+--------------------+--------------------+\n"
          ]
        }
      ]
    },
    {
      "cell_type": "markdown",
      "source": [
        "*   1.4 Compare the best obtained results from 1.1 to 1.3 (use PrettyTable to dispaly the results)"
      ],
      "metadata": {
        "id": "G3N7TD7s_3Kp"
      }
    },
    {
      "cell_type": "code",
      "source": [
        "t = PrettyTable(['','accuracy', 'precision', 'recall', 'f1'])\n",
        "t.add_row(['SVM',round(acc1, 3),round(precision1,3),round(recall1, 3),round(f11,3)])\n",
        "t.add_row(['KNN',round(acc2, 3),round(precision2,3),round(recall2, 3),round(f12,3)])\n",
        "t.add_row(['Random Forests',round(acc3, 3),round(precision3,3),round(recall3, 3),round(f13,3)])\n",
        "print(t)"
      ],
      "metadata": {
        "colab": {
          "base_uri": "https://localhost:8080/"
        },
        "id": "rAEL7JOYElwm",
        "outputId": "e1994191-f78d-4f97-bbbd-68e3885d64f8"
      },
      "execution_count": 8,
      "outputs": [
        {
          "output_type": "stream",
          "name": "stdout",
          "text": [
            "+----------------+----------+-----------+--------+-------+\n",
            "|                | accuracy | precision | recall |   f1  |\n",
            "+----------------+----------+-----------+--------+-------+\n",
            "|      SVM       |   1.0    |    1.0    |  1.0   |  1.0  |\n",
            "|      KNN       |  0.956   |   0.956   | 0.956  | 0.956 |\n",
            "| Random Forests |  0.956   |   0.956   | 0.956  | 0.956 |\n",
            "+----------------+----------+-----------+--------+-------+\n"
          ]
        }
      ]
    },
    {
      "cell_type": "markdown",
      "source": [
        "#Task 2. \n",
        "For breast cancer dataset (https://tinyurl.com/3vme8hr3) which could be loaded from datasets in sklearn as follows:\n",
        "\n",
        "```\n",
        "#Import scikit-learn dataset library\n",
        "from sklearn import datasets\n",
        "\n",
        "#Load dataset\n",
        "cancer = datasets.load_breast_cancer()\n",
        "```\n",
        "\n",
        "*   Apply **GridSearchCV** to different classification algorithms such as **SVM, kNN, LogisticRegression, RandomForest**.\n",
        "*   Compare the results obtained by the best hyperparameters among classification algorithms."
      ],
      "metadata": {
        "id": "kNv07ARGzOUm"
      }
    },
    {
      "cell_type": "code",
      "source": [
        "cancer = datasets.load_breast_cancer()\n",
        "X = cancer.data\n",
        "y = cancer.target\n",
        "X_train, X_test, y_train, y_test = train_test_split(X, y, test_size = 0.3, random_state=1)"
      ],
      "metadata": {
        "id": "4CV-wOd5gZRK"
      },
      "execution_count": 19,
      "outputs": []
    },
    {
      "cell_type": "markdown",
      "source": [
        "*   2.1. Apply **GridSearchCV** to **SVM** \n"
      ],
      "metadata": {
        "id": "pnoVB8J4vV36"
      }
    },
    {
      "cell_type": "code",
      "source": [
        "param_grid = {'C': [0.1, 1],\n",
        "              'gamma': [1, 0.1],\n",
        "              'kernel': ['rbf','linear']}\n",
        "\n",
        "svc = svm.SVC(random_state=0)\n",
        "grid_rf_class =  GridSearchCV(estimator=svc ,param_grid=param_grid, n_jobs=4,cv=10,refit=True,return_train_score=True)\n",
        "grid_rf_class.fit(X_train, y_train)\n",
        "y_pred = grid_rf_class.predict(X_test)\n",
        "sorted(grid_rf_class.cv_results_.keys())\n",
        "print(grid_rf_class.best_params_)\n",
        "acc1 = metrics.accuracy_score(y_test, y_pred)\n",
        "precision1 = metrics.precision_score(y_test, y_pred, average='micro')\n",
        "recall1 = metrics.recall_score(y_test, y_pred, average='micro')\n",
        "f11 = metrics.f1_score(y_test, y_pred, average='micro')\n",
        "\n",
        "t = PrettyTable(['','accuracy', 'precision', 'recall', 'f1'])\n",
        "t.add_row(['SVM',acc1,precision1,recall1,f11])\n",
        "print(t)"
      ],
      "metadata": {
        "id": "-ZTSvsJdvYqI",
        "colab": {
          "base_uri": "https://localhost:8080/"
        },
        "outputId": "a2f478c3-548c-428d-b196-d97cdf8bd9b8"
      },
      "execution_count": 25,
      "outputs": [
        {
          "output_type": "stream",
          "name": "stdout",
          "text": [
            "{'C': 0.1, 'gamma': 1, 'kernel': 'linear'}\n",
            "+-----+--------------------+--------------------+--------------------+--------------------+\n",
            "|     |      accuracy      |     precision      |       recall       |         f1         |\n",
            "+-----+--------------------+--------------------+--------------------+--------------------+\n",
            "| SVM | 0.9415204678362573 | 0.9415204678362573 | 0.9415204678362573 | 0.9415204678362573 |\n",
            "+-----+--------------------+--------------------+--------------------+--------------------+\n"
          ]
        }
      ]
    },
    {
      "cell_type": "markdown",
      "source": [
        "*   2.2. Apply **GridSearchCV** to **kNN** "
      ],
      "metadata": {
        "id": "ol1U_T_NvcqV"
      }
    },
    {
      "cell_type": "code",
      "source": [
        "grid_params = { 'n_neighbors' : [5,7,9],\n",
        "               'weights' : ['uniform','distance'],\n",
        "               'metric' : ['minkowski','euclidean']}\n",
        "k_range = grid_params['n_neighbors']\n",
        "for k in k_range:\n",
        "  KNN = KNeighborsClassifier(n_neighbors = k)\n",
        "  grid_rf_class =  GridSearchCV(estimator=KNN ,param_grid=grid_params,  n_jobs=4,cv=10,refit=True,return_train_score=True)\n",
        "  grid_rf_class.fit(X_train, y_train)\n",
        "  y_pred = grid_rf_class.predict(X_test)\n",
        "  sorted(grid_rf_class.cv_results_.keys())\n",
        "print(grid_rf_class.best_params_)\n",
        "acc2 = metrics.accuracy_score(y_test, y_pred)\n",
        "precision2 = metrics.precision_score(y_test, y_pred, average='micro')\n",
        "recall2 = metrics.recall_score(y_test, y_pred, average='micro')\n",
        "f12 = metrics.f1_score(y_test, y_pred, average='micro')\n",
        "t = PrettyTable(['','accuracy', 'precision', 'recall', 'f1'])\n",
        "t.add_row(['KNN',acc2,precision2,recall2,f12])\n",
        "print(t)"
      ],
      "metadata": {
        "id": "kt71yrAoBwYE",
        "colab": {
          "base_uri": "https://localhost:8080/"
        },
        "outputId": "57ae033e-81b8-4454-8bee-c05e62e7afe6"
      },
      "execution_count": 22,
      "outputs": [
        {
          "output_type": "stream",
          "name": "stdout",
          "text": [
            "{'metric': 'minkowski', 'n_neighbors': 9, 'weights': 'uniform'}\n",
            "+-----+--------------------+--------------------+--------------------+--------------------+\n",
            "|     |      accuracy      |     precision      |       recall       |         f1         |\n",
            "+-----+--------------------+--------------------+--------------------+--------------------+\n",
            "| KNN | 0.9298245614035088 | 0.9298245614035088 | 0.9298245614035088 | 0.9298245614035088 |\n",
            "+-----+--------------------+--------------------+--------------------+--------------------+\n"
          ]
        }
      ]
    },
    {
      "cell_type": "markdown",
      "source": [
        "*   2.3. Apply **GridSearchCV** to **LogisticRegression** "
      ],
      "metadata": {
        "id": "pPkAvse-BxNa"
      }
    },
    {
      "cell_type": "code",
      "source": [
        "param_grid = {'C': [0.001, 0.01, 0.1, 1, 10, 100, 1000] }\n",
        "classifier = LogisticRegression(random_state = 1,solver='lbfgs',max_iter=10000)\n",
        "grid_rf_class =  GridSearchCV(estimator= classifier ,param_grid=param_grid, n_jobs=4,cv=10,refit=True,return_train_score=True)\n",
        "grid_rf_class.fit(X_train, y_train)\n",
        "y_pred = grid_rf_class.predict(X_test)\n",
        "sorted(grid_rf_class.cv_results_.keys())\n",
        "print(grid_rf_class.best_params_)\n",
        "\n",
        "acc4 = metrics.accuracy_score(y_test, y_pred)\n",
        "pre4 = metrics.precision_score(y_test, y_pred, average='macro')\n",
        "rec4 = metrics.recall_score(y_test, y_pred, average='macro')\n",
        "f1_4 = metrics.f1_score(y_test, y_pred, average='macro')\n",
        "print(metrics.classification_report(y_test, y_pred))"
      ],
      "metadata": {
        "id": "nyYjpHFbB1Ci",
        "colab": {
          "base_uri": "https://localhost:8080/"
        },
        "outputId": "df32cc24-ec8c-4922-a56e-86a8d4960cd9"
      },
      "execution_count": 31,
      "outputs": [
        {
          "output_type": "stream",
          "name": "stdout",
          "text": [
            "{'C': 100}\n",
            "              precision    recall  f1-score   support\n",
            "\n",
            "           0       0.95      0.95      0.95        63\n",
            "           1       0.97      0.97      0.97       108\n",
            "\n",
            "    accuracy                           0.96       171\n",
            "   macro avg       0.96      0.96      0.96       171\n",
            "weighted avg       0.96      0.96      0.96       171\n",
            "\n"
          ]
        }
      ]
    },
    {
      "cell_type": "markdown",
      "source": [
        "*   2.4. Apply **GridSearchCV** to **RandomForest** "
      ],
      "metadata": {
        "id": "3NjSLo5jB1xY"
      }
    },
    {
      "cell_type": "code",
      "source": [
        "param_grid = {\n",
        "    'n_estimators': [25, 150],\n",
        "    'max_features': ['sqrt',  None],\n",
        "    'max_depth': [3, 6, 9],\n",
        "    'max_leaf_nodes': [3, 6, 9],\n",
        "}\n",
        "random=RandomForestClassifier()\n",
        "grid_rf_class =  GridSearchCV(estimator= random ,param_grid=param_grid, n_jobs=4,cv=10,refit=True,return_train_score=True)\n",
        "grid_rf_class.fit(X_train, y_train)\n",
        "y_pred = grid_rf_class.predict(X_test)\n",
        "sorted(grid_rf_class.cv_results_.keys())\n",
        "print(grid_rf_class.best_params_)\n"
      ],
      "metadata": {
        "id": "nktGtM0PB7XB",
        "colab": {
          "base_uri": "https://localhost:8080/"
        },
        "outputId": "44ee753e-fc18-4105-9dfd-b3be865d9455"
      },
      "execution_count": 23,
      "outputs": [
        {
          "output_type": "stream",
          "name": "stdout",
          "text": [
            "{'max_depth': 6, 'max_features': None, 'max_leaf_nodes': 6, 'n_estimators': 150}\n"
          ]
        }
      ]
    },
    {
      "cell_type": "code",
      "source": [
        "acc3 = metrics.accuracy_score(y_test, y_pred)\n",
        "precision3 = metrics.precision_score(y_test, y_pred, average='micro')\n",
        "recall3 = metrics.recall_score(y_test, y_pred, average='micro')\n",
        "f13 = metrics.f1_score(y_test, y_pred, average='micro')\n",
        "t = PrettyTable(['','accuracy', 'precision', 'recall', 'f1'])\n",
        "t.add_row(['KNN',acc3,precision3,recall3,f13])\n",
        "print(t)"
      ],
      "metadata": {
        "colab": {
          "base_uri": "https://localhost:8080/"
        },
        "id": "DjxcctpFh_lJ",
        "outputId": "0a11b1c0-2624-4a43-ea8f-20400bc1b1f6"
      },
      "execution_count": 24,
      "outputs": [
        {
          "output_type": "stream",
          "name": "stdout",
          "text": [
            "+-----+--------------------+--------------------+--------------------+--------------------+\n",
            "|     |      accuracy      |     precision      |       recall       |         f1         |\n",
            "+-----+--------------------+--------------------+--------------------+--------------------+\n",
            "| KNN | 0.9532163742690059 | 0.9532163742690059 | 0.9532163742690059 | 0.9532163742690059 |\n",
            "+-----+--------------------+--------------------+--------------------+--------------------+\n"
          ]
        }
      ]
    },
    {
      "cell_type": "markdown",
      "source": [
        "*   2.5. Compare the best obtained results among classification algorithms (use PrettyTable to dispaly the results) "
      ],
      "metadata": {
        "id": "NZJ3BSHpB9Dx"
      }
    },
    {
      "cell_type": "code",
      "source": [
        "t = PrettyTable(['','accuracy', 'precision', 'recall', 'f1'])\n",
        "t.add_row(['SVM',round(acc1, 3),round(precision1,3),round(recall1, 3),round(f11,3)])\n",
        "t.add_row(['KNN',round(acc2, 3),round(precision2,3),round(recall2, 3),round(f12,3)])\n",
        "t.add_row(['LogisticRegression',round(acc4, 3),round(pre4,3),round(rec4, 3),round(f1_4,3)])\n",
        "t.add_row(['Random Forests',round(acc3, 3),round(precision3,3),round(recall3, 3),round(f13,3)])\n",
        "print(t)"
      ],
      "metadata": {
        "id": "8LS_IYfNCFEj",
        "colab": {
          "base_uri": "https://localhost:8080/"
        },
        "outputId": "9bc12211-ac2f-449f-8d57-e39397150621"
      },
      "execution_count": 32,
      "outputs": [
        {
          "output_type": "stream",
          "name": "stdout",
          "text": [
            "+--------------------+----------+-----------+--------+-------+\n",
            "|                    | accuracy | precision | recall |   f1  |\n",
            "+--------------------+----------+-----------+--------+-------+\n",
            "|        SVM         |  0.942   |   0.942   | 0.942  | 0.942 |\n",
            "|        KNN         |  0.965   |    0.93   |  0.93  |  0.93 |\n",
            "| LogisticRegression |  0.965   |   0.962   | 0.962  | 0.962 |\n",
            "|   Random Forests   |  0.953   |   0.953   | 0.953  | 0.953 |\n",
            "+--------------------+----------+-----------+--------+-------+\n"
          ]
        }
      ]
    },
    {
      "cell_type": "markdown",
      "source": [
        "#Task 3. \n",
        "The dataset consists of **2000 user-created movie reviews** archived on the IMDb(Internet Movie Database). The reviews are equally partitioned into a positive set and a negative set (1000+1000). Each review consists of a plain text file (.txt) and a class label representing the overall user opinion. \n",
        "The class attribute has only two values: **pos** (positive) or **neg** (negative).\n"
      ],
      "metadata": {
        "id": "b52OPWPD2afi"
      }
    },
    {
      "cell_type": "markdown",
      "source": [
        "*   3.1 Importing additional libraries"
      ],
      "metadata": {
        "id": "lDcxOQRmDz_h"
      }
    },
    {
      "cell_type": "code",
      "source": [
        "import nltk, random\n",
        "nltk.download('movie_reviews')#download movie reviews dataset\n",
        "from nltk.corpus import movie_reviews\n",
        "import pandas as pd\n",
        "import matplotlib.pyplot as plt\n",
        "import numpy as np\n",
        "from sklearn.model_selection import cross_val_score\n",
        "from collections import Counter\n",
        "from sklearn.model_selection import train_test_split"
      ],
      "metadata": {
        "id": "ZjyW06skDwvL",
        "colab": {
          "base_uri": "https://localhost:8080/"
        },
        "outputId": "c9fbf29c-8fbe-4031-f8c5-95406f4b6faa"
      },
      "execution_count": 33,
      "outputs": [
        {
          "output_type": "stream",
          "name": "stderr",
          "text": [
            "[nltk_data] Downloading package movie_reviews to /root/nltk_data...\n",
            "[nltk_data]   Unzipping corpora/movie_reviews.zip.\n"
          ]
        }
      ]
    },
    {
      "cell_type": "markdown",
      "source": [
        "*   3.2. Movie reviews information"
      ],
      "metadata": {
        "id": "RJpsTIiyv-1h"
      }
    },
    {
      "cell_type": "code",
      "source": [
        "#code\n",
        "print(len(movie_reviews.fileids()))\n",
        "print(movie_reviews.categories())\n",
        "print(movie_reviews.words()[:100])\n",
        "print(movie_reviews.fileids()[:10])"
      ],
      "metadata": {
        "id": "5ZE7A0Au1Pg0",
        "colab": {
          "base_uri": "https://localhost:8080/"
        },
        "outputId": "08890aec-0e9e-4004-97f2-5e29035b362d"
      },
      "execution_count": 34,
      "outputs": [
        {
          "output_type": "stream",
          "name": "stdout",
          "text": [
            "2000\n",
            "['neg', 'pos']\n",
            "['plot', ':', 'two', 'teen', 'couples', 'go', 'to', ...]\n",
            "['neg/cv000_29416.txt', 'neg/cv001_19502.txt', 'neg/cv002_17424.txt', 'neg/cv003_12683.txt', 'neg/cv004_12641.txt', 'neg/cv005_29357.txt', 'neg/cv006_17022.txt', 'neg/cv007_4992.txt', 'neg/cv008_29326.txt', 'neg/cv009_29417.txt']\n"
          ]
        }
      ]
    },
    {
      "cell_type": "markdown",
      "source": [
        "*   3.3. Create dataset from movie reviews"
      ],
      "metadata": {
        "id": "6pHmMpqMHS23"
      }
    },
    {
      "cell_type": "code",
      "source": [
        "documents = [(list(movie_reviews.words(fileid)), category)\n",
        "             for category in movie_reviews.categories()\n",
        "             for fileid in movie_reviews.fileids(category)]\n",
        "random.seed(123)\n",
        "random.shuffle(documents)"
      ],
      "metadata": {
        "id": "45aY6woMHSH5"
      },
      "execution_count": 35,
      "outputs": []
    },
    {
      "cell_type": "code",
      "source": [
        "print('Number of Reviews/Documents: {}'.format(len(documents)))\n",
        "print('Corpus Size (words): {}'.format(np.sum([len(d) for (d,l) in documents])))\n",
        "print('Sample Text of Doc 1:')\n",
        "print('-'*30)\n",
        "print(' '.join(documents[0][0][:50])) # first 50 words of the first document"
      ],
      "metadata": {
        "id": "NNke0Da5HqFa",
        "colab": {
          "base_uri": "https://localhost:8080/"
        },
        "outputId": "13ed6cd1-648e-45db-c652-b65b71b93395"
      },
      "execution_count": 36,
      "outputs": [
        {
          "output_type": "stream",
          "name": "stdout",
          "text": [
            "Number of Reviews/Documents: 2000\n",
            "Corpus Size (words): 1583820\n",
            "Sample Text of Doc 1:\n",
            "------------------------------\n",
            "most movies seem to release a third movie just so it can be called a trilogy . rocky iii seems to kind of fit in that category , but manages to be slightly unique . the rocky formula of \" rocky loses fight / rocky trains / rocky wins fight\n"
          ]
        }
      ]
    },
    {
      "cell_type": "code",
      "source": [
        "sentiment_distr = Counter([label for (words, label) in documents])\n",
        "print(sentiment_distr)"
      ],
      "metadata": {
        "id": "vVFUEhnXHsGd",
        "colab": {
          "base_uri": "https://localhost:8080/"
        },
        "outputId": "08459b8b-bb1e-48b8-a4e8-81e814501209"
      },
      "execution_count": 38,
      "outputs": [
        {
          "output_type": "stream",
          "name": "stdout",
          "text": [
            "Counter({'pos': 1000, 'neg': 1000})\n"
          ]
        }
      ]
    },
    {
      "cell_type": "markdown",
      "source": [
        "*   3.4. Train test split"
      ],
      "metadata": {
        "id": "jTXiEbMzHgVC"
      }
    },
    {
      "cell_type": "code",
      "source": [
        "train, test = train_test_split(documents, test_size = 0.33, random_state=42)"
      ],
      "metadata": {
        "id": "v_-0gZZFHvJN"
      },
      "execution_count": 39,
      "outputs": []
    },
    {
      "cell_type": "code",
      "source": [
        "## Sentiment Distrubtion for Train and Test\n",
        "print(Counter([label for (words, label) in train]))\n",
        "print(Counter([label for (words, label) in test]))"
      ],
      "metadata": {
        "id": "UUGlm5TGHvpV",
        "colab": {
          "base_uri": "https://localhost:8080/"
        },
        "outputId": "ed2d91bf-4ddc-4532-e41d-e7a0d82ba98c"
      },
      "execution_count": 40,
      "outputs": [
        {
          "output_type": "stream",
          "name": "stdout",
          "text": [
            "Counter({'neg': 674, 'pos': 666})\n",
            "Counter({'pos': 334, 'neg': 326})\n"
          ]
        }
      ]
    },
    {
      "cell_type": "code",
      "source": [
        "X_train = [' '.join(words) for (words, label) in train]\n",
        "X_test = [' '.join(words) for (words, label) in test]\n",
        "y_train = [label for (words, label) in train]\n",
        "y_test = [label for (words, label) in test]"
      ],
      "metadata": {
        "id": "l1ppl_0RHx1P"
      },
      "execution_count": 41,
      "outputs": []
    },
    {
      "cell_type": "markdown",
      "source": [
        "*   3.5. Text Vectorization"
      ],
      "metadata": {
        "id": "7xUaXrjxH6Ee"
      }
    },
    {
      "cell_type": "code",
      "source": [
        "from sklearn.feature_extraction.text import CountVectorizer, TfidfVectorizer\n",
        "\n",
        "tfidf_vec = TfidfVectorizer(min_df = 10, token_pattern = r'[a-zA-Z]+')\n",
        "X_train_bow = tfidf_vec.fit_transform(X_train) # fit train\n",
        "X_test_bow = tfidf_vec.transform(X_test) # transform test"
      ],
      "metadata": {
        "id": "fzwM0nsIH-8l"
      },
      "execution_count": 42,
      "outputs": []
    },
    {
      "cell_type": "markdown",
      "source": [
        "*   3.6. Apply **SVM** with **GridSearchCV** "
      ],
      "metadata": {
        "id": "BP1vB3loIF28"
      }
    },
    {
      "cell_type": "code",
      "source": [
        "param_grid = {'C': [0.1, 1],\n",
        "              'gamma': [1, 0.1],\n",
        "              'kernel': ['rbf','linear']}\n",
        "\n",
        "svc = svm.SVC(random_state=0)\n",
        "grid_rf_class =  GridSearchCV(estimator=svc ,param_grid=param_grid, n_jobs=4,cv=10,refit=True,return_train_score=True)\n",
        "grid_rf_class.fit(X_train_bow, y_train)\n",
        "y_pred = grid_rf_class.predict(X_test_bow)\n",
        "sorted(grid_rf_class.cv_results_.keys())\n",
        "print(grid_rf_class.best_params_)\n",
        "acc1 = metrics.accuracy_score(y_test, y_pred)\n",
        "precision1 = metrics.precision_score(y_test, y_pred, average='micro')\n",
        "recall1 = metrics.recall_score(y_test, y_pred, average='micro')\n",
        "f11 = metrics.f1_score(y_test, y_pred, average='micro')\n",
        "\n",
        "t = PrettyTable(['','accuracy', 'precision', 'recall', 'f1'])\n",
        "t.add_row(['SVM',acc1,precision1,recall1,f11])\n",
        "print(t)"
      ],
      "metadata": {
        "id": "b3FHQqh1Hlrd"
      },
      "execution_count": 51,
      "outputs": []
    },
    {
      "cell_type": "markdown",
      "source": [
        "*   3.7. Apply **RandomForest** with **GridSearchCV** "
      ],
      "metadata": {
        "id": "N1Fy8jYBIdxi"
      }
    },
    {
      "cell_type": "code",
      "source": [
        "param_grid = {\n",
        "    'n_estimators': [25, 150],\n",
        "    'max_features': ['sqrt',  None],\n",
        "    'max_depth': [3, 6, 9],\n",
        "    'max_leaf_nodes': [3, 6, 9],\n",
        "}\n",
        "random=RandomForestClassifier()\n",
        "grid_rf_class =  GridSearchCV(estimator= random ,param_grid=param_grid, n_jobs=4,cv=10,refit=True,return_train_score=True)\n",
        "grid_rf_class.fit(X_train_bow, y_train)\n",
        "y_pred = grid_rf_class.predict(X_test)\n",
        "sorted(grid_rf_class.cv_results_.keys())\n",
        "print(grid_rf_class.best_params_)\n",
        "\n",
        "acc3 = metrics.accuracy_score(y_test, y_pred)\n",
        "precision3 = metrics.precision_score(y_test, y_pred, average='micro')\n",
        "recall3 = metrics.recall_score(y_test, y_pred, average='micro')\n",
        "f13 = metrics.f1_score(y_test, y_pred, average='micro')\n",
        "t = PrettyTable(['','accuracy', 'precision', 'recall', 'f1'])\n",
        "t.add_row(['KNN',acc3,precision3,recall3,f13])\n",
        "print(t)"
      ],
      "metadata": {
        "id": "Fyfw2R-gIhWl"
      },
      "execution_count": 50,
      "outputs": []
    },
    {
      "cell_type": "markdown",
      "source": [
        "*   3.8. Apply **kNN** with **GridSearchCV** "
      ],
      "metadata": {
        "id": "_btsVKjIIiLT"
      }
    },
    {
      "cell_type": "code",
      "source": [
        "grid_params = { 'n_neighbors' : [5,7,9],\n",
        "               'weights' : ['uniform','distance'],\n",
        "               'metric' : ['minkowski','euclidean']}\n",
        "k_range = grid_params['n_neighbors']\n",
        "for k in k_range:\n",
        "  KNN = KNeighborsClassifier(n_neighbors = k)\n",
        "  grid_rf_class =  GridSearchCV(estimator=KNN ,param_grid=grid_params,  n_jobs=4,cv=10,refit=True,return_train_score=True)\n",
        "  grid_rf_class.fit(X_train_bow, y_train)\n",
        "  y_pred = grid_rf_class.predict(X_test_bow)\n",
        "  sorted(grid_rf_class.cv_results_.keys())\n",
        "print(grid_rf_class.best_params_)\n",
        "acc2 = metrics.accuracy_score(y_test, y_pred)\n",
        "precision2 = metrics.precision_score(y_test, y_pred, average='micro')\n",
        "recall2 = metrics.recall_score(y_test, y_pred, average='micro')\n",
        "f12 = metrics.f1_score(y_test, y_pred, average='micro')\n",
        "t = PrettyTable(['','accuracy', 'precision', 'recall', 'f1'])\n",
        "t.add_row(['KNN',acc2,precision2,recall2,f12])\n",
        "print(t)"
      ],
      "metadata": {
        "id": "IZmFu1ZQImhn"
      },
      "execution_count": null,
      "outputs": []
    },
    {
      "cell_type": "markdown",
      "source": [
        "*   3.9. Apply **LogisticRegression** with **GridSearchCV** "
      ],
      "metadata": {
        "id": "0Ix_HeVGIvDu"
      }
    },
    {
      "cell_type": "code",
      "source": [
        "param_grid = {'C': [0.001, 0.01, 0.1, 1, 10, 100, 1000] }\n",
        "classifier = LogisticRegression(random_state = 1,solver='lbfgs',max_iter=10000)\n",
        "grid_rf_class =  GridSearchCV(estimator= classifier ,param_grid=param_grid, n_jobs=4,cv=10,refit=True,return_train_score=True)\n",
        "grid_rf_class.fit(X_train_bow, y_train)\n",
        "y_pred = grid_rf_class.predict(X_test_bow)\n",
        "sorted(grid_rf_class.cv_results_.keys())\n",
        "print(grid_rf_class.best_params_)\n",
        "\n",
        "acc4 = metrics.accuracy_score(y_test, y_pred)\n",
        "pre4 = metrics.precision_score(y_test, y_pred, average='macro')\n",
        "rec4 = metrics.recall_score(y_test, y_pred, average='macro')\n",
        "f1_4 = metrics.f1_score(y_test, y_pred, average='macro')\n",
        "print(metrics.classification_report(y_test, y_pred))"
      ],
      "metadata": {
        "id": "sTd3alCMIr-i"
      },
      "execution_count": null,
      "outputs": []
    },
    {
      "cell_type": "markdown",
      "source": [
        "*   3.10. Compare the best obtained results among classification algorithms (use PrettyTable to dispaly the results) "
      ],
      "metadata": {
        "id": "nhYF2y6eI058"
      }
    },
    {
      "cell_type": "code",
      "source": [
        "t = PrettyTable(['','accuracy', 'precision', 'recall', 'f1'])\n",
        "t.add_row(['SVM',round(acc1, 3),round(precision1,3),round(recall1, 3),round(f11,3)])\n",
        "t.add_row(['KNN',round(acc2, 3),round(precision2,3),round(recall2, 3),round(f12,3)])\n",
        "t.add_row(['LogisticRegression',round(acc4, 3),round(pre4,3),round(rec4, 3),round(f1_4,3)])\n",
        "t.add_row(['Random Forests',round(acc3, 3),round(precision3,3),round(recall3, 3),round(f13,3)])\n",
        "print(t)"
      ],
      "metadata": {
        "id": "MGDUWpjjwQvI"
      },
      "execution_count": null,
      "outputs": []
    },
    {
      "cell_type": "markdown",
      "source": [
        "#Finally,\n",
        "Save a copy in your Github. Remember renaming the notebook."
      ],
      "metadata": {
        "id": "Ok7RGkea_b7n"
      }
    }
  ]
}