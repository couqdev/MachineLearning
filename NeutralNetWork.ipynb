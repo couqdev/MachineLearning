{
  "nbformat": 4,
  "nbformat_minor": 0,
  "metadata": {
    "colab": {
      "provenance": [],
      "authorship_tag": "ABX9TyPpGcP9BYJ4ZLtTRd0raWfl",
      "include_colab_link": true
    },
    "kernelspec": {
      "name": "python3",
      "display_name": "Python 3"
    },
    "language_info": {
      "name": "python"
    }
  },
  "cells": [
    {
      "cell_type": "markdown",
      "metadata": {
        "id": "view-in-github",
        "colab_type": "text"
      },
      "source": [
        "<a href=\"https://colab.research.google.com/github/couqdev/MachineLearning/blob/main/NeutralNetWork.ipynb\" target=\"_parent\"><img src=\"https://colab.research.google.com/assets/colab-badge.svg\" alt=\"Open In Colab\"/></a>"
      ]
    },
    {
      "cell_type": "code",
      "execution_count": null,
      "metadata": {
        "colab": {
          "base_uri": "https://localhost:8080/"
        },
        "id": "-_kx6rqAAwSi",
        "outputId": "e1f54e01-9a62-4acb-c9e4-81d7a4996d9b"
      },
      "outputs": [
        {
          "output_type": "stream",
          "name": "stdout",
          "text": [
            "Mounted at /content/gdrive\n",
            "/content/gdrive/MyDrive/MachineLeaning\n"
          ]
        }
      ],
      "source": [
        "from google.colab import drive\n",
        "drive.mount('/content/gdrive')\n",
        "%cd '/content/gdrive/MyDrive/MachineLeaning'"
      ]
    },
    {
      "cell_type": "code",
      "execution_count": null,
      "metadata": {
        "id": "SFxlwI40D3nv"
      },
      "outputs": [],
      "source": [
        "import pandas as pd\n",
        "from sklearn import svm\n",
        "from sklearn.model_selection import train_test_split\n",
        "from sklearn.model_selection import train_test_split\n",
        "from prettytable import PrettyTable\n",
        "import sklearn.metrics as metrics\n",
        "from sklearn.preprocessing import OneHotEncoder\n",
        "from sklearn.model_selection import cross_validate\n",
        "import numpy as np\n",
        "from sklearn.metrics import confusion_matrix\n",
        "from sklearn.metrics import ConfusionMatrixDisplay\n",
        "import matplotlib.pyplot as plt\n",
        "from sklearn.model_selection import cross_val_score\n",
        "from sklearn.model_selection import KFold\n",
        "from sklearn.model_selection import GridSearchCV\n",
        "from sklearn.neighbors import KNeighborsClassifier\n",
        "import keras\n",
        "from sklearn.preprocessing import LabelEncoder\n",
        "from sklearn.preprocessing import StandardScaler\n",
        "from keras.models import Sequential\n",
        "from keras.layers import Dense\n",
        "from sklearn.naive_bayes import CategoricalNB\n",
        "from sklearn import metrics\n",
        "from sklearn.ensemble import RandomForestClassifier\n",
        "from sklearn import tree\n",
        "import seaborn as sns"
      ]
    },
    {
      "cell_type": "markdown",
      "source": [
        "5. Neural Network:"
      ],
      "metadata": {
        "id": "PXmZag6_1A6R"
      }
    },
    {
      "cell_type": "code",
      "source": [
        "data = pd.read_csv(\"datasetML.csv\")"
      ],
      "metadata": {
        "id": "Z2QhaEXrshNl"
      },
      "execution_count": null,
      "outputs": []
    },
    {
      "cell_type": "code",
      "source": [
        "encoder = OneHotEncoder()\n",
        "onehotlist = ['White King file', 'White Rook file', 'Black King file']\n",
        "\n",
        "encoded_columns = []\n",
        "for column in onehotlist:\n",
        "    encoded_column = encoder.fit_transform(data[[column]]).toarray()\n",
        "    encoded_columns.append(encoded_column)\n",
        "\n",
        "X = np.hstack(encoded_columns)\n",
        "\n",
        "y = data['optimal depth-of-win for White']\n",
        "label_encoder = LabelEncoder()\n",
        "y = label_encoder.fit_transform(y)\n",
        "\n",
        "X_train, X_test, y_train, y_test = train_test_split(X, y, test_size=0.15, random_state=100)"
      ],
      "metadata": {
        "id": "M1fRF4xDsyyA"
      },
      "execution_count": null,
      "outputs": []
    },
    {
      "cell_type": "code",
      "source": [
        "scaler = StandardScaler()\n",
        "X_train = scaler.fit_transform(X_train)\n",
        "model = Sequential()\n",
        "model.add(Dense(250, input_dim=X_train.shape[1], activation='relu'))\n",
        "model.add(Dense(100, activation='relu'))\n",
        "model.add(Dense(10, activation='relu'))\n",
        "model.add(Dense(1, activation='sigmoid'))\n",
        "\n",
        "model.compile(loss='binary_crossentropy', optimizer='Adam', metrics=['accuracy'])\n",
        "model.fit(X_train, y_train, epochs=10, batch_size=128)"
      ],
      "metadata": {
        "colab": {
          "base_uri": "https://localhost:8080/"
        },
        "id": "5m_W1imi2GJg",
        "outputId": "7777f1e3-c8b2-47f6-d29d-233e55a57504"
      },
      "execution_count": null,
      "outputs": [
        {
          "output_type": "stream",
          "name": "stdout",
          "text": [
            "Epoch 1/10\n",
            "187/187 [==============================] - 1s 2ms/step - loss: -2837.4753 - accuracy: 0.0526\n",
            "Epoch 2/10\n",
            "187/187 [==============================] - 0s 2ms/step - loss: -113018.1094 - accuracy: 0.0515\n",
            "Epoch 3/10\n",
            "187/187 [==============================] - 0s 2ms/step - loss: -867174.1250 - accuracy: 0.0515\n",
            "Epoch 4/10\n",
            "187/187 [==============================] - 0s 2ms/step - loss: -3328113.0000 - accuracy: 0.0515\n",
            "Epoch 5/10\n",
            "187/187 [==============================] - 0s 2ms/step - loss: -8905468.0000 - accuracy: 0.0515\n",
            "Epoch 6/10\n",
            "187/187 [==============================] - 0s 2ms/step - loss: -19228088.0000 - accuracy: 0.0515\n",
            "Epoch 7/10\n",
            "187/187 [==============================] - 0s 2ms/step - loss: -36015684.0000 - accuracy: 0.0515\n",
            "Epoch 8/10\n",
            "187/187 [==============================] - 0s 2ms/step - loss: -61098400.0000 - accuracy: 0.0515\n",
            "Epoch 9/10\n",
            "187/187 [==============================] - 1s 3ms/step - loss: -96223696.0000 - accuracy: 0.0515\n",
            "Epoch 10/10\n",
            "187/187 [==============================] - 1s 3ms/step - loss: -143080928.0000 - accuracy: 0.0515\n"
          ]
        },
        {
          "output_type": "execute_result",
          "data": {
            "text/plain": [
              "<keras.callbacks.History at 0x7fba08e13ca0>"
            ]
          },
          "metadata": {},
          "execution_count": 20
        }
      ]
    }
  ]
}